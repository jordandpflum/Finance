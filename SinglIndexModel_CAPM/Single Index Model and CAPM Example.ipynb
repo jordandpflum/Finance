{
 "cells": [
  {
   "cell_type": "code",
   "execution_count": 11,
   "metadata": {},
   "outputs": [],
   "source": [
    "import numpy as np\n",
    "import pandas as pd\n",
    "import matplotlib.pyplot as plt\n",
    "import math\n",
    "import scipy.stats as stats\n",
    "from prettytable import PrettyTable"
   ]
  },
  {
   "cell_type": "code",
   "execution_count": 12,
   "metadata": {},
   "outputs": [],
   "source": [
    "# Read in Data\n",
    "returnData = pd.read_csv('Data/returnData.csv', index_col=0)\n"
   ]
  },
  {
   "cell_type": "code",
   "execution_count": 13,
   "metadata": {},
   "outputs": [],
   "source": [
    "marketProxy = returnData[\"SPY\"]\n",
    "portfolio = returnData.drop(\"SPY\", axis=1)"
   ]
  },
  {
   "cell_type": "code",
   "execution_count": 14,
   "metadata": {},
   "outputs": [],
   "source": [
    "tickers = list(portfolio.columns)\n",
    "numAssets = len(portfolio.columns)\n",
    "\n",
    "# Define RF (monthly)\n",
    "irx = 0.98\n",
    "rf = irx*.01/12"
   ]
  },
  {
   "cell_type": "code",
   "execution_count": 15,
   "metadata": {},
   "outputs": [
    {
     "name": "stdout",
     "output_type": "stream",
     "text": [
      "AAPL 1.2521127061684143\n",
      "AGG -0.05176415657036736\n",
      "AMD 3.098590183329557\n",
      "BA 1.201789046105224\n",
      "BAC 1.652152870165256\n",
      "C 1.8223242753855406\n",
      "F 1.0847524944846538\n",
      "GE 1.1890973901171737\n",
      "GLD -0.2025835448489839\n",
      "IBM 1.3345801288026464\n",
      "KO 0.42112472612755736\n",
      "MSFT 1.2279918206634726\n",
      "PFE 0.655324847518377\n",
      "TSLA 0.64164837895249\n"
     ]
    }
   ],
   "source": [
    "# SCL\n",
    "# Calculate Risk Premium\n",
    "portfolioRiskPremium = portfolio.apply(lambda x: x - rf)\n",
    "marketRiskPremium = marketProxy.apply(lambda x: x - rf)\n",
    "\n",
    "# Test Case (AAPL)\n",
    "SCL = pd.DataFrame(index=tickers,columns=[\"Beta\", \"Alpha\"])\n",
    "for ticker in tickers:\n",
    "    # Calculate Beta and Alpha\n",
    "    beta, alpha = np.polyfit(marketRiskPremium, portfolioRiskPremium[ticker], 1)\n",
    "    SCL.loc[ticker, 'Beta'] = beta\n",
    "    SCL.loc[ticker, 'Alpha'] = alpha"
   ]
  },
  {
   "cell_type": "code",
   "execution_count": 16,
   "metadata": {},
   "outputs": [],
   "source": [
    "# SML\n",
    "slope = np.average(marketRiskPremium)\n",
    "eri = list(map(lambda x: x * slope + rf, SCL[\"Beta\"]))"
   ]
  },
  {
   "cell_type": "code",
   "execution_count": 17,
   "metadata": {},
   "outputs": [
    {
     "data": {
      "image/png": "[encoded data removed]",
      "text/plain": [
       "<Figure size 432x288 with 1 Axes>"
      ]
     },
     "metadata": {
      "needs_background": "light"
     },
     "output_type": "display_data"
    }
   ],
   "source": [
    "# Plotting\n",
    "# SCL\n",
    "fig = plt.figure()\n",
    "ax1 = fig.add_subplot(111)\n",
    "ax1.scatter(marketRiskPremium, portfolioRiskPremium[\"AAPL\"], s=10, c='r', marker=\"o\")\n",
    "plt.plot(marketRiskPremium, beta*marketRiskPremium + alpha)\n",
    "#plt.legend(loc='upper left', prop={'size': 6});\n",
    "plt.title('SCL')\n",
    "plt.xlabel('rm - rf')\n",
    "plt.ylabel('ri - rf')\n",
    "#plt.savefig('marketPortfolioOptimization.png')\n",
    "plt.show()"
   ]
  },
  {
   "cell_type": "code",
   "execution_count": 18,
   "metadata": {},
   "outputs": [
    {
     "data": {
      "image/png": "[encoded data removed]",
      "text/plain": [
       "<Figure size 432x288 with 1 Axes>"
      ]
     },
     "metadata": {
      "needs_background": "light"
     },
     "output_type": "display_data"
    }
   ],
   "source": [
    "# SML\n",
    "fig = plt.figure()\n",
    "ax1 = fig.add_subplot(111)\n",
    "ax1.scatter(SCL[\"Beta\"], eri, s=10, c='r', marker=\"o\")\n",
    "'''\n",
    "# Adding Line Segments\n",
    "lines = [[(0, np.average(marketRiskPremium)), (1, np.average(marketRiskPremium))],\n",
    "         [(1, 0), (1, np.average(marketRiskPremium))]\n",
    "         ]\n",
    "c = np.array([(0, 0, 1, 1), (0, 0, 1, 1)])\n",
    "lc = mc.LineCollection(lines, colors=c, linewidths=2)\n",
    "ax1.add_collection(lc)\n",
    "ax1.autoscale()\n",
    "ax1.margins(0)\n",
    "'''\n",
    "\n",
    "#plt.plot(marketRiskPremium, beta*marketRiskPremium + alpha)\n",
    "#plt.legend(loc='upper left', prop={'size': 6});\n",
    "\n",
    "plt.title('SML')\n",
    "plt.xlabel('Beta')\n",
    "plt.ylabel('E(ri)')\n",
    "#plt.savefig('marketPortfolioOptimization.png')\n",
    "plt.show()"
   ]
  }
 ],
 "metadata": {
  "kernelspec": {
   "display_name": "Python 3",
   "language": "python",
   "name": "python3"
  },
  "language_info": {
   "codemirror_mode": {
    "name": "ipython",
    "version": 3
   },
   "file_extension": ".py",
   "mimetype": "text/x-python",
   "name": "python",
   "nbconvert_exporter": "python",
   "pygments_lexer": "ipython3",
   "version": "3.8.3"
  }
 },
 "nbformat": 4,
 "nbformat_minor": 4
}
