{
 "cells": [
  {
   "cell_type": "code",
   "execution_count": 1,
   "metadata": {},
   "outputs": [],
   "source": [
    "import numpy as np\n",
    "import pandas as pd\n",
    "import matplotlib.pyplot as plt\n",
    "import math\n",
    "import scipy.stats as stats\n",
    "from prettytable import PrettyTable"
   ]
  },
  {
   "cell_type": "markdown",
   "metadata": {},
   "source": [
    "Load Data"
   ]
  },
  {
   "cell_type": "code",
   "execution_count": 2,
   "metadata": {},
   "outputs": [],
   "source": [
    "priceData = pd.read_csv(\"Data/portfolioAdjPriceData.csv\", index_col=0)"
   ]
  },
  {
   "cell_type": "markdown",
   "metadata": {},
   "source": [
    "Calculate Returns"
   ]
  },
  {
   "cell_type": "code",
   "execution_count": 3,
   "metadata": {},
   "outputs": [],
   "source": [
    "numAssets = len(priceData.columns)\n",
    "\n",
    "returnData = pd.DataFrame()\n",
    "# Calculate Returns for Every Asset\n",
    "for asset in priceData.head():\n",
    "    returnData[str(asset + \"_returns\")] = (priceData[asset] - priceData[asset].shift(1)) / priceData[asset].shift(1)\n",
    "\n",
    "# Drop first row of Returns\n",
    "returnData = returnData.drop(returnData.index[0])"
   ]
  },
  {
   "cell_type": "markdown",
   "metadata": {},
   "source": [
    "Do preliminary calculations"
   ]
  },
  {
   "cell_type": "code",
   "execution_count": 4,
   "metadata": {},
   "outputs": [],
   "source": [
    "# Calculate Historical Returns\n",
    "historicalReturns = returnData.mean()\n",
    "\n",
    "# Convert Returns to Array\n",
    "historicalReturns = historicalReturns.to_numpy()\n",
    "\n",
    "# Calculate Risk\n",
    "risk = returnData.std().to_numpy()\n",
    "\n",
    "covMatrix = returnData.cov().to_numpy()\n",
    "\n",
    "# Define RF (monthly)\n",
    "irx = 0.98\n",
    "rf = irx*.01/12"
   ]
  },
  {
   "cell_type": "markdown",
   "metadata": {},
   "source": [
    "# GMV"
   ]
  },
  {
   "cell_type": "code",
   "execution_count": 5,
   "metadata": {},
   "outputs": [],
   "source": [
    "# GMV Calculation\n",
    "# Create b\n",
    "b = np.zeros( (numAssets+1, 1) )\n",
    "# Set Initial Constraint (w'1 = 1)\n",
    "b[numAssets, 0] = 1\n",
    "\n",
    "# Create A\n",
    "A = np.zeros( (numAssets+1, numAssets+1) )\n",
    "\n",
    "A[0:numAssets, 0:numAssets] = 2*covMatrix\n",
    "A[numAssets,0:numAssets] = np.ones( (1,numAssets) )\n",
    "A[0:numAssets,numAssets] = np.ones( (1,numAssets) )\n",
    "\n",
    "# Solve for x\n",
    "x = np.dot(np.linalg.inv(A), b)\n",
    "\n",
    "# Calculate Minimum Variance Portfolio\n",
    "w = x[0:numAssets]\n",
    "erp = np.dot(np.transpose(w), historicalReturns)\n",
    "sigmarp = math.sqrt(np.dot(np.transpose(w), np.dot(covMatrix, w)))\n",
    "minVarPort = (float(erp), float(sigmarp))"
   ]
  },
  {
   "cell_type": "markdown",
   "metadata": {},
   "source": [
    "# MVE"
   ]
  },
  {
   "cell_type": "code",
   "execution_count": 6,
   "metadata": {},
   "outputs": [],
   "source": [
    "# MVE Calculation\n",
    "# Create A\n",
    "A = np.zeros( (numAssets+2, numAssets+2) )\n",
    "\n",
    "A[0:numAssets, 0:numAssets] = 2*covMatrix\n",
    "A[numAssets,0:numAssets] = np.ones( (1,numAssets) )\n",
    "A[0:numAssets,numAssets] = np.ones( (1,numAssets) )\n",
    "A[numAssets+1,0:numAssets] = historicalReturns\n",
    "A[0:numAssets,numAssets+1] = historicalReturns\n",
    "\n",
    "EF = [[],[]]\n",
    "\n",
    "mu0Increment = .001\n",
    "mu0Itterations = 25\n",
    "\n",
    "for mu0 in np.arange(minVarPort[0], mu0Itterations*mu0Increment + minVarPort[0], mu0Increment):\n",
    "    # Create b\n",
    "    b = np.zeros( (numAssets+2, 1) )\n",
    "    # Set Initial Constraints (w'1 = 1), (E(rp)=mu0)\n",
    "    b[numAssets, 0] = 1\n",
    "    b[numAssets+1, 0] = mu0\n",
    "\n",
    "    # Solve for x\n",
    "    x = np.dot(np.linalg.inv(A), b)\n",
    "\n",
    "    # Calculate EF Portfolio\n",
    "    w = x[0:numAssets]\n",
    "    erp = np.dot(np.transpose(w), historicalReturns)\n",
    "    sigmarp = math.sqrt(np.dot(np.transpose(w), np.dot(covMatrix, w)))\n",
    "    EF[0].append(erp)\n",
    "    EF[1].append(sigmarp)"
   ]
  },
  {
   "cell_type": "markdown",
   "metadata": {},
   "source": [
    "# ORP"
   ]
  },
  {
   "cell_type": "code",
   "execution_count": 7,
   "metadata": {},
   "outputs": [],
   "source": [
    "# ORP Calculation\n",
    "# Weight Vector\n",
    "w = np.dot(np.linalg.inv(covMatrix), np.reshape(historicalReturns, (numAssets,1)) - np.dot(rf, np.ones( (numAssets, 1)))) / \\\n",
    "    np.dot(np.dot(np.transpose(np.ones( (numAssets, 1))), np.linalg.inv(covMatrix)),np.reshape(historicalReturns, (numAssets,1)) - np.dot(rf, np.ones( (numAssets, 1))))\n",
    "\n",
    "# Calculate Optimal Risky Portfolio\n",
    "erp = np.dot(np.transpose(w), historicalReturns)\n",
    "sigmarp = math.sqrt(np.dot(np.transpose(w), np.dot(covMatrix, w)))\n",
    "ORPort = (float(erp), float(sigmarp))"
   ]
  },
  {
   "cell_type": "markdown",
   "metadata": {},
   "source": [
    "# CAL"
   ]
  },
  {
   "cell_type": "code",
   "execution_count": 8,
   "metadata": {},
   "outputs": [],
   "source": [
    "# CAL Line\n",
    "optimalSharpeRatio = float((ORPort[0] - rf) / ORPort[1])\n",
    "calRisks = np.arange(0, EF[1][-1], mu0Increment)\n",
    "calErps = list(map(lambda x: x * optimalSharpeRatio + rf, np.arange(0, EF[1][-1], mu0Increment)))"
   ]
  },
  {
   "cell_type": "markdown",
   "metadata": {},
   "source": [
    "# Random Portfolio"
   ]
  },
  {
   "cell_type": "code",
   "execution_count": 9,
   "metadata": {},
   "outputs": [],
   "source": [
    "# Random Portfolio\n",
    "randPort_w = np.array([[0.9],\n",
    "                         [0.05],\n",
    "                         [0],\n",
    "                         [0],\n",
    "                         [0],\n",
    "                         [0],\n",
    "                         [0.05]]\n",
    "                        )\n",
    "erp = np.dot(np.transpose(randPort_w), historicalReturns)\n",
    "sigmarp = math.sqrt(np.dot(np.transpose(randPort_w), np.dot(covMatrix, randPort_w)))\n",
    "randPort = (float(erp), float(sigmarp))"
   ]
  },
  {
   "cell_type": "markdown",
   "metadata": {},
   "source": [
    "# Efficient Random Portfolio (same return as random)"
   ]
  },
  {
   "cell_type": "code",
   "execution_count": 10,
   "metadata": {},
   "outputs": [],
   "source": [
    "# Calculate Efficient Random Portfolio (same return as random)\n",
    "# Create b\n",
    "b = np.zeros((numAssets + 2, 1))\n",
    "# Set Initial Constraints (w'1 = 1), (E(rp)=mu0)\n",
    "b[numAssets, 0] = 1\n",
    "b[numAssets + 1, 0] = randPort[0]\n",
    "\n",
    "# Solve for x\n",
    "x = np.dot(np.linalg.inv(A), b)\n",
    "\n",
    "# Calculate EF Portfolio\n",
    "w = x[0:numAssets]\n",
    "erp = np.dot(np.transpose(w), historicalReturns)\n",
    "sigmarp = math.sqrt(np.dot(np.transpose(w), np.dot(covMatrix, w)))\n",
    "randPortEff = (float(erp), float(sigmarp))"
   ]
  },
  {
   "cell_type": "markdown",
   "metadata": {},
   "source": [
    "# Complete Portfolio"
   ]
  },
  {
   "cell_type": "code",
   "execution_count": 11,
   "metadata": {},
   "outputs": [],
   "source": [
    "# Calculate Complete Random Portfolio (same return as original random portfolio)\n",
    "erp = randPort[0]\n",
    "sigmarp = (randPort[0] - rf)/optimalSharpeRatio\n",
    "randPortComplete_ESame = (float(erp), float(sigmarp))\n",
    "\n",
    "# Calculate Complete Random Portfolio (same risk as original random portfolio)\n",
    "erp = optimalSharpeRatio*randPort[1] + rf\n",
    "sigmarp = randPort[1]\n",
    "randPortComplete_RiskSame = (float(erp), float(sigmarp))"
   ]
  },
  {
   "cell_type": "markdown",
   "metadata": {},
   "source": [
    "# Results"
   ]
  },
  {
   "cell_type": "markdown",
   "metadata": {},
   "source": [
    "## Summary"
   ]
  },
  {
   "cell_type": "code",
   "execution_count": 12,
   "metadata": {},
   "outputs": [
    {
     "name": "stdout",
     "output_type": "stream",
     "text": [
      "+---------------------------------------------------------------+---------------------+---------------------+-----------------------------------------+------------------------------------+\n",
      "|                           Portfolio                           |    Annual Returns   |      Annual SD      | Annual Returns Diff to Random Portfolio | Annual SD Diff to Random Portfolio |\n",
      "+---------------------------------------------------------------+---------------------+---------------------+-----------------------------------------+------------------------------------+\n",
      "|                        Random Portfolio                       | 0.11065427629383917 | 0.14968369940083384 |                   0.0                   |                0.0                 |\n",
      "|     Efficient Portfolio (Same Returns as Random Portfolio)    | 0.11065427629383917 | 0.04795982664990081 |                   0.0                   |        -0.10172387275093303        |\n",
      "|                       Optimal Portfolio                       | 0.11676595267060574 | 0.05070027114386785 |           0.006111676376766573          |        -0.09898342825696599        |\n",
      "| Optimal Complete Portfolio (Same Returns as Random Portfolio) | 0.11065427629383917 | 0.04792474482539657 |                   0.0                   |        -0.10175895457543727        |\n",
      "|   Optimal Complete Portfolio (Same Risk as Random Portfolio)  |  0.3559756396732112 | 0.14968369940083384 |           0.24532136337937205           |                0.0                 |\n",
      "+---------------------------------------------------------------+---------------------+---------------------+-----------------------------------------+------------------------------------+\n"
     ]
    }
   ],
   "source": [
    "# Summary Table\n",
    "table = PrettyTable(['Portfolio', 'Annual Returns', 'Annual SD', 'Annual Returns Diff to Random Portfolio', 'Annual SD Diff to Random Portfolio'])\n",
    "portfolios = [[\"Random Portfolio\", randPort],\n",
    "              [\"Efficient Portfolio (Same Returns as Random Portfolio)\", randPortEff],\n",
    "              [\"Optimal Portfolio\", ORPort],\n",
    "              [\"Optimal Complete Portfolio (Same Returns as Random Portfolio)\",randPortComplete_ESame],\n",
    "              [\"Optimal Complete Portfolio (Same Risk as Random Portfolio)\", randPortComplete_RiskSame]\n",
    "              ]\n",
    "originalPort_AnnualRet = (1+randPort[0])**12 - 1\n",
    "originalPort_AnnualSD = randPort[1] * math.sqrt(12)\n",
    "for portfolio in portfolios:\n",
    "    annual_ret = (1+portfolio[1][0])**12 - 1\n",
    "    annual_sd = portfolio[1][1] * math.sqrt(12)\n",
    "    rec = [portfolio[0], annual_ret, annual_sd, annual_ret-originalPort_AnnualRet, annual_sd-originalPort_AnnualSD]\n",
    "    table.add_row(rec)\n",
    "\n",
    "print(table)"
   ]
  },
  {
   "cell_type": "markdown",
   "metadata": {},
   "source": [
    "Output looks better in consel."
   ]
  },
  {
   "cell_type": "markdown",
   "metadata": {},
   "source": [
    "## Plotting"
   ]
  },
  {
   "cell_type": "code",
   "execution_count": 13,
   "metadata": {},
   "outputs": [
    {
     "data": {
      "image/png": "[encoded data removed]",
      "text/plain": [
       "<Figure size 432x288 with 1 Axes>"
      ]
     },
     "metadata": {
      "needs_background": "light"
     },
     "output_type": "display_data"
    }
   ],
   "source": [
    "# Plotting\n",
    "fig = plt.figure()\n",
    "ax1 = fig.add_subplot(111)\n",
    "\n",
    "ax1.scatter(EF[1], EF[0], s=10, c='b', marker=\"s\", label='EF')\n",
    "#plt.plot(EF[1], EF[0], linestyle='-', c='b', marker=\"s\", label='EF')\n",
    "ax1.scatter(ORPort[1], ORPort[0], s=10, c='r', marker=\"o\", label='Optimal Risky Portfolio')\n",
    "ax1.scatter(randPort[1], randPort[0], s=10, c='g', marker=\"o\", label='Random Portfolio')\n",
    "ax1.scatter(randPortEff[1], randPortEff[0], s=10, c='y', marker=\"o\", label='Random Efficient Portfolio')\n",
    "ax1.scatter(randPortComplete_ESame[1], randPortComplete_ESame[0], s=10, c='k', marker=\"o\", label='Complete Random Portfolio (Same Return)')\n",
    "ax1.scatter(randPortComplete_RiskSame[1], randPortComplete_RiskSame[0], s=10, c='m', marker=\"o\", label='Complete Random Portfolio (Same Risk)')\n",
    "plt.plot(calRisks, calErps, label='CAL')\n",
    "plt.legend(loc='upper left', prop={'size': 6});\n",
    "plt.title('Market Portfolio')\n",
    "plt.xlabel('sigma')\n",
    "plt.ylabel('E(rp)')\n",
    "plt.show()"
   ]
  },
  {
   "cell_type": "code",
   "execution_count": 14,
   "metadata": {},
   "outputs": [
    {
     "data": {
      "image/png": "[encoded data removed]",
      "text/plain": [
       "<Figure size 432x288 with 1 Axes>"
      ]
     },
     "metadata": {
      "needs_background": "light"
     },
     "output_type": "display_data"
    },
    {
     "data": {
      "image/png": "[encoded data removed]",
      "text/plain": [
       "<Figure size 432x288 with 1 Axes>"
      ]
     },
     "metadata": {
      "needs_background": "light"
     },
     "output_type": "display_data"
    }
   ],
   "source": [
    "import matplotlib.pyplot as plt\n",
    "import numpy as np\n",
    "import math\n",
    "\n",
    "\n",
    "x_1 = np.linspace(randPort[0] - 3*randPort[1], randPort[0] + 3*randPort[1], 100)\n",
    "x_2 = np.linspace(randPortComplete_RiskSame[0] - 3*randPortComplete_RiskSame[1], randPortComplete_RiskSame[0] + 3*randPortComplete_RiskSame[1], 100)\n",
    "plt.plot(x_1, stats.norm.pdf(x_1, randPort[0], randPort[1]), label='Random Portfolio')\n",
    "plt.plot(x_2, stats.norm.pdf(x_2, randPortComplete_RiskSame[0], randPortComplete_RiskSame[1]), label='Complete Random Portfolio (Same Risk)')\n",
    "plt.legend(loc='upper left', prop={'size': 5});\n",
    "plt.title('Portfolio Distributions')\n",
    "plt.xlabel('E(r)')\n",
    "plt.show()\n",
    "\n",
    "x_1 = np.linspace(randPort[0] - 3*randPort[1], randPort[0] + 3*randPort[1], 100)\n",
    "x_2 = np.linspace(randPortComplete_ESame[0] - 3*randPortComplete_ESame[1], randPortComplete_ESame[0] + 3*randPortComplete_ESame[1], 100)\n",
    "plt.plot(x_1, stats.norm.pdf(x_1, randPort[0], randPort[1]), label='Random Portfolio')\n",
    "plt.plot(x_2, stats.norm.pdf(x_2, randPortComplete_ESame[0], randPortComplete_ESame[1]), label='Complete Random Portfolio (Same Return)')\n",
    "plt.legend(loc='upper left', prop={'size': 5});\n",
    "plt.title('Portfolio Distributions')\n",
    "plt.xlabel('E(r)')\n",
    "plt.show()"
   ]
  },
  {
   "cell_type": "code",
   "execution_count": null,
   "metadata": {},
   "outputs": [],
   "source": []
  }
 ],
 "metadata": {
  "kernelspec": {
   "display_name": "Python 3",
   "language": "python",
   "name": "python3"
  },
  "language_info": {
   "codemirror_mode": {
    "name": "ipython",
    "version": 3
   },
   "file_extension": ".py",
   "mimetype": "text/x-python",
   "name": "python",
   "nbconvert_exporter": "python",
   "pygments_lexer": "ipython3",
   "version": "3.8.3"
  }
 },
 "nbformat": 4,
 "nbformat_minor": 4
}
