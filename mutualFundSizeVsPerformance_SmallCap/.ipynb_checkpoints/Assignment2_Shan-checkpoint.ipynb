{
 "cells": [
  {
   "cell_type": "markdown",
   "metadata": {},
   "source": [
    "### Connect to WRDS"
   ]
  },
  {
   "cell_type": "code",
   "execution_count": 1,
   "metadata": {},
   "outputs": [
    {
     "name": "stdout",
     "output_type": "stream",
     "text": [
      "Enter your WRDS username [shanc]:shanali88\n",
      "Enter your password:········\n",
      "WRDS recommends setting up a .pgpass file.\n",
      "You can find more info here:\n",
      "https://www.postgresql.org/docs/9.5/static/libpq-pgpass.html.\n",
      "Loading library list...\n",
      "Done\n"
     ]
    }
   ],
   "source": [
    "import wrds\n",
    "db = wrds.Connection()"
   ]
  },
  {
   "cell_type": "markdown",
   "metadata": {},
   "source": [
    "# Testing"
   ]
  },
  {
   "cell_type": "markdown",
   "metadata": {},
   "source": [
    "### Classification Table"
   ]
  },
  {
   "cell_type": "code",
   "execution_count": 2,
   "metadata": {},
   "outputs": [
    {
     "data": {
      "text/html": [
       "<div>\n",
       "<style scoped>\n",
       "    .dataframe tbody tr th:only-of-type {\n",
       "        vertical-align: middle;\n",
       "    }\n",
       "\n",
       "    .dataframe tbody tr th {\n",
       "        vertical-align: top;\n",
       "    }\n",
       "\n",
       "    .dataframe thead th {\n",
       "        text-align: right;\n",
       "    }\n",
       "</style>\n",
       "<table border=\"1\" class=\"dataframe\">\n",
       "  <thead>\n",
       "    <tr style=\"text-align: right;\">\n",
       "      <th></th>\n",
       "      <th>crsp_fundno</th>\n",
       "      <th>begdt</th>\n",
       "      <th>enddt</th>\n",
       "      <th>lipper_class</th>\n",
       "    </tr>\n",
       "  </thead>\n",
       "  <tbody>\n",
       "    <tr>\n",
       "      <th>0</th>\n",
       "      <td>292.0</td>\n",
       "      <td>1999-12-31</td>\n",
       "      <td>2000-08-31</td>\n",
       "      <td>SCVE</td>\n",
       "    </tr>\n",
       "    <tr>\n",
       "      <th>1</th>\n",
       "      <td>479.0</td>\n",
       "      <td>1999-12-31</td>\n",
       "      <td>2000-12-30</td>\n",
       "      <td>SCVE</td>\n",
       "    </tr>\n",
       "    <tr>\n",
       "      <th>2</th>\n",
       "      <td>657.0</td>\n",
       "      <td>1999-12-31</td>\n",
       "      <td>2000-02-29</td>\n",
       "      <td>SCVE</td>\n",
       "    </tr>\n",
       "    <tr>\n",
       "      <th>3</th>\n",
       "      <td>671.0</td>\n",
       "      <td>1999-12-31</td>\n",
       "      <td>2000-06-30</td>\n",
       "      <td>SCVE</td>\n",
       "    </tr>\n",
       "    <tr>\n",
       "      <th>4</th>\n",
       "      <td>709.0</td>\n",
       "      <td>1999-12-31</td>\n",
       "      <td>2000-01-31</td>\n",
       "      <td>SCVE</td>\n",
       "    </tr>\n",
       "  </tbody>\n",
       "</table>\n",
       "</div>"
      ],
      "text/plain": [
       "   crsp_fundno       begdt       enddt lipper_class\n",
       "0        292.0  1999-12-31  2000-08-31         SCVE\n",
       "1        479.0  1999-12-31  2000-12-30         SCVE\n",
       "2        657.0  1999-12-31  2000-02-29         SCVE\n",
       "3        671.0  1999-12-31  2000-06-30         SCVE\n",
       "4        709.0  1999-12-31  2000-01-31         SCVE"
      ]
     },
     "execution_count": 2,
     "metadata": {},
     "output_type": "execute_result"
    }
   ],
   "source": [
    "sql_query = \"\"\"\n",
    "-- Summary Table\n",
    "SELECT\n",
    "    crsp_q_mutualfunds.fund_style.CRSP_FUNDNO,\n",
    "    crsp_q_mutualfunds.fund_style.BEGDT,\n",
    "    crsp_q_mutualfunds.fund_style.ENDDT,\n",
    "    crsp_q_mutualfunds.fund_style.LIPPER_CLASS\n",
    "FROM \n",
    "    crsp_q_mutualfunds.fund_style\n",
    "WHERE\n",
    "    crsp_q_mutualfunds.fund_style.LIPPER_CLASS = 'SCVE'\n",
    "LIMIT 10\n",
    "\"\"\"\n",
    "data_query = db.raw_sql(sql_query)\n",
    "data_query.head()"
   ]
  },
  {
   "cell_type": "markdown",
   "metadata": {},
   "source": [
    "### Monthly Return Data"
   ]
  },
  {
   "cell_type": "code",
   "execution_count": 3,
   "metadata": {},
   "outputs": [
    {
     "data": {
      "text/html": [
       "<div>\n",
       "<style scoped>\n",
       "    .dataframe tbody tr th:only-of-type {\n",
       "        vertical-align: middle;\n",
       "    }\n",
       "\n",
       "    .dataframe tbody tr th {\n",
       "        vertical-align: top;\n",
       "    }\n",
       "\n",
       "    .dataframe thead th {\n",
       "        text-align: right;\n",
       "    }\n",
       "</style>\n",
       "<table border=\"1\" class=\"dataframe\">\n",
       "  <thead>\n",
       "    <tr style=\"text-align: right;\">\n",
       "      <th></th>\n",
       "      <th>crsp_fundno</th>\n",
       "      <th>caldt</th>\n",
       "      <th>mret</th>\n",
       "    </tr>\n",
       "  </thead>\n",
       "  <tbody>\n",
       "    <tr>\n",
       "      <th>0</th>\n",
       "      <td>1.0</td>\n",
       "      <td>1997-02-28</td>\n",
       "      <td>NaN</td>\n",
       "    </tr>\n",
       "    <tr>\n",
       "      <th>1</th>\n",
       "      <td>1.0</td>\n",
       "      <td>1997-03-31</td>\n",
       "      <td>-0.011789</td>\n",
       "    </tr>\n",
       "    <tr>\n",
       "      <th>2</th>\n",
       "      <td>1.0</td>\n",
       "      <td>1997-04-30</td>\n",
       "      <td>0.008417</td>\n",
       "    </tr>\n",
       "    <tr>\n",
       "      <th>3</th>\n",
       "      <td>1.0</td>\n",
       "      <td>1997-05-30</td>\n",
       "      <td>0.013523</td>\n",
       "    </tr>\n",
       "    <tr>\n",
       "      <th>4</th>\n",
       "      <td>1.0</td>\n",
       "      <td>1997-06-30</td>\n",
       "      <td>0.012502</td>\n",
       "    </tr>\n",
       "  </tbody>\n",
       "</table>\n",
       "</div>"
      ],
      "text/plain": [
       "   crsp_fundno       caldt      mret\n",
       "0          1.0  1997-02-28       NaN\n",
       "1          1.0  1997-03-31 -0.011789\n",
       "2          1.0  1997-04-30  0.008417\n",
       "3          1.0  1997-05-30  0.013523\n",
       "4          1.0  1997-06-30  0.012502"
      ]
     },
     "execution_count": 3,
     "metadata": {},
     "output_type": "execute_result"
    }
   ],
   "source": [
    "sql_query = \"\"\"\n",
    "-- Return Table\n",
    "SELECT\n",
    "    crsp_q_mutualfunds.monthly_returns.CRSP_FUNDNO,\n",
    "    crsp_q_mutualfunds.monthly_returns.CALDT,\n",
    "    crsp_q_mutualfunds.monthly_returns.MRET\n",
    "FROM \n",
    "    crsp_q_mutualfunds.monthly_returns\n",
    "LIMIT 10\n",
    "\"\"\"\n",
    "data_query = db.raw_sql(sql_query)\n",
    "data_query.head()"
   ]
  },
  {
   "cell_type": "markdown",
   "metadata": {},
   "source": [
    "### Monthly TNA Table"
   ]
  },
  {
   "cell_type": "code",
   "execution_count": 4,
   "metadata": {},
   "outputs": [
    {
     "data": {
      "text/html": [
       "<div>\n",
       "<style scoped>\n",
       "    .dataframe tbody tr th:only-of-type {\n",
       "        vertical-align: middle;\n",
       "    }\n",
       "\n",
       "    .dataframe tbody tr th {\n",
       "        vertical-align: top;\n",
       "    }\n",
       "\n",
       "    .dataframe thead th {\n",
       "        text-align: right;\n",
       "    }\n",
       "</style>\n",
       "<table border=\"1\" class=\"dataframe\">\n",
       "  <thead>\n",
       "    <tr style=\"text-align: right;\">\n",
       "      <th></th>\n",
       "      <th>crsp_fundno</th>\n",
       "      <th>caldt</th>\n",
       "      <th>mtna</th>\n",
       "    </tr>\n",
       "  </thead>\n",
       "  <tbody>\n",
       "    <tr>\n",
       "      <th>0</th>\n",
       "      <td>1.0</td>\n",
       "      <td>1997-01-31</td>\n",
       "      <td>0.100</td>\n",
       "    </tr>\n",
       "    <tr>\n",
       "      <th>1</th>\n",
       "      <td>1.0</td>\n",
       "      <td>1997-02-28</td>\n",
       "      <td>3.926</td>\n",
       "    </tr>\n",
       "    <tr>\n",
       "      <th>2</th>\n",
       "      <td>1.0</td>\n",
       "      <td>1997-03-31</td>\n",
       "      <td>12.081</td>\n",
       "    </tr>\n",
       "    <tr>\n",
       "      <th>3</th>\n",
       "      <td>1.0</td>\n",
       "      <td>1997-04-30</td>\n",
       "      <td>20.540</td>\n",
       "    </tr>\n",
       "    <tr>\n",
       "      <th>4</th>\n",
       "      <td>1.0</td>\n",
       "      <td>1997-05-30</td>\n",
       "      <td>26.157</td>\n",
       "    </tr>\n",
       "  </tbody>\n",
       "</table>\n",
       "</div>"
      ],
      "text/plain": [
       "   crsp_fundno       caldt    mtna\n",
       "0          1.0  1997-01-31   0.100\n",
       "1          1.0  1997-02-28   3.926\n",
       "2          1.0  1997-03-31  12.081\n",
       "3          1.0  1997-04-30  20.540\n",
       "4          1.0  1997-05-30  26.157"
      ]
     },
     "execution_count": 4,
     "metadata": {},
     "output_type": "execute_result"
    }
   ],
   "source": [
    "sql_query = \"\"\"\n",
    "-- TNA Table\n",
    "SELECT\n",
    "    crsp_q_mutualfunds.monthly_tna.CRSP_FUNDNO,\n",
    "    crsp_q_mutualfunds.monthly_tna.CALDT,\n",
    "    crsp_q_mutualfunds.monthly_tna.MTNA\n",
    "FROM \n",
    "    crsp_q_mutualfunds.monthly_tna\n",
    "LIMIT 10\n",
    "\"\"\"\n",
    "data_query = db.raw_sql(sql_query)\n",
    "data_query.head()"
   ]
  },
  {
   "cell_type": "markdown",
   "metadata": {},
   "source": [
    "# Assignment"
   ]
  },
  {
   "cell_type": "markdown",
   "metadata": {},
   "source": [
    "### Monthly Return vs Monthly TNA"
   ]
  },
  {
   "cell_type": "code",
   "execution_count": 2,
   "metadata": {},
   "outputs": [],
   "source": [
    "sql_query = \"\"\"\n",
    "SELECT\n",
    "    crsp_q_mutualfunds.monthly_returns.CRSP_FUNDNO,\n",
    "    crsp_q_mutualfunds.monthly_returns.CALDT,\n",
    "    crsp_q_mutualfunds.monthly_returns.MRET,\n",
    "    crsp_q_mutualfunds.monthly_tna.MTNA\n",
    "FROM \n",
    "    crsp_q_mutualfunds.monthly_returns\n",
    "INNER JOIN\n",
    "    crsp_q_mutualfunds.monthly_tna\n",
    "ON\n",
    "    crsp_q_mutualfunds.monthly_returns.CRSP_FUNDNO = crsp_q_mutualfunds.monthly_tna.CRSP_FUNDNO\n",
    "INNER JOIN\n",
    "    crsp_q_mutualfunds.fund_style\n",
    "ON\n",
    "    crsp_q_mutualfunds.monthly_returns.CRSP_FUNDNO = crsp_q_mutualfunds.fund_style.CRSP_FUNDNO\n",
    "WHERE\n",
    "    crsp_q_mutualfunds.fund_style.BEGDT <= crsp_q_mutualfunds.monthly_returns.CALDT AND\n",
    "    crsp_q_mutualfunds.fund_style.ENDDT >= crsp_q_mutualfunds.monthly_returns.CALDT AND\n",
    "    crsp_q_mutualfunds.monthly_returns.CALDT = crsp_q_mutualfunds.monthly_tna.CALDT AND\n",
    "    crsp_q_mutualfunds.fund_style.LIPPER_CLASS = 'SCVE'\n",
    "ORDER BY\n",
    "    crsp_q_mutualfunds.monthly_returns.CRSP_FUNDNO,\n",
    "    crsp_q_mutualfunds.monthly_returns.CALDT\n",
    "\"\"\"\n",
    "\n",
    "data_query = db.raw_sql(sql_query)"
   ]
  },
  {
   "cell_type": "markdown",
   "metadata": {},
   "source": [
    "### Regression"
   ]
  },
  {
   "cell_type": "code",
   "execution_count": 3,
   "metadata": {},
   "outputs": [
    {
     "name": "stdout",
     "output_type": "stream",
     "text": [
      "Coefficient:  3.536619990658294e-07\n",
      "Intercept:  0.007310037137654173\n"
     ]
    }
   ],
   "source": [
    "import numpy as np\n",
    "from sklearn.linear_model import LinearRegression\n",
    "\n",
    "# Drop NAs\n",
    "data_queryClean = data_query.dropna(axis=0)\n",
    "reg = LinearRegression().fit(np.array(data_queryClean['mtna'].values).reshape(-1,1), \n",
    "                             np.array(data_queryClean['mret'].values).reshape(-1,1)\n",
    "                            )\n",
    "print('Coefficient: ', reg.coef_[0][0])\n",
    "print('Intercept: ', reg.intercept_[0])"
   ]
  },
  {
   "cell_type": "markdown",
   "metadata": {},
   "source": [
    "### Plotting"
   ]
  },
  {
   "cell_type": "code",
   "execution_count": 4,
   "metadata": {},
   "outputs": [
    {
     "data": {
      "text/plain": [
       "<function matplotlib.pyplot.show(*args, **kw)>"
      ]
     },
     "execution_count": 4,
     "metadata": {},
     "output_type": "execute_result"
    },
    {
     "data": {
      "image/png": "[encoded data removed]",
      "text/plain": [
       "<Figure size 432x288 with 1 Axes>"
      ]
     },
     "metadata": {
      "needs_background": "light"
     },
     "output_type": "display_data"
    }
   ],
   "source": [
    "import matplotlib.pyplot as plt\n",
    "\n",
    "plt.scatter(data_queryClean['mtna'], data_queryClean['mret'])\n",
    "plt.plot(data_queryClean['mtna'],reg.predict(np.array(data_queryClean['mtna'].values).reshape(-1,1)), color='red')\n",
    "plt.xlabel('Net Total Assets (Monthly)')\n",
    "plt.ylabel('Monthly Return (Monthly)')\n",
    "plt.title('Net Total Assets vs Monthly Return (Monthly)')\n",
    "plt.show"
   ]
  },
  {
   "cell_type": "markdown",
   "metadata": {},
   "source": [
    "### Monthly Risk"
   ]
  },
  {
   "cell_type": "code",
   "execution_count": 32,
   "metadata": {},
   "outputs": [
    {
     "name": "stdout",
     "output_type": "stream",
     "text": [
      "Coefficient:  -1.7913752542336768e-06\n",
      "Intercept:  0.05981240157476869\n",
      "R-squared:  0.0018698032394877104\n"
     ]
    },
    {
     "data": {
      "text/plain": [
       "<function matplotlib.pyplot.show(*args, **kw)>"
      ]
     },
     "execution_count": 32,
     "metadata": {},
     "output_type": "execute_result"
    },
    {
     "data": {
      "image/png": "[encoded data removed]",
      "text/plain": [
       "<Figure size 432x288 with 1 Axes>"
      ]
     },
     "metadata": {
      "needs_background": "light"
     },
     "output_type": "display_data"
    }
   ],
   "source": [
    "# get std\n",
    "mstd = data_query.groupby(['crsp_fundno']).agg({'mret':'std','mtna':'mean'})\n",
    "\n",
    "# Drop NAs\n",
    "mstd = mstd.dropna(axis=0)\n",
    "reg = LinearRegression().fit(np.array(mstd['mtna'].values).reshape(-1,1), \n",
    "                             np.array(mstd['mret'].values).reshape(-1,1)\n",
    "                            )\n",
    "print('Coefficient: ', reg.coef_[0][0])\n",
    "print('Intercept: ', reg.intercept_[0])\n",
    "print('R-squared: ', reg.score(np.array(mstd['mtna'].values).reshape(-1,1), \n",
    "                             np.array(mstd['mret'].values).reshape(-1,1)))\n",
    "\n",
    "# plot\n",
    "plt.scatter(mstd['mtna'], mstd['mret'])\n",
    "plt.plot(mstd['mtna'],reg.predict(np.array(mstd['mtna'].values).reshape(-1,1)), color='red')\n",
    "plt.xlabel('Net Total Assets (Monthly)')\n",
    "plt.ylabel('Risk (Monthly Std)')\n",
    "plt.title('Net Total Assets vs Monthly Risk')\n",
    "plt.show"
   ]
  },
  {
   "cell_type": "markdown",
   "metadata": {},
   "source": [
    "### Annualzed Returns vs Average TNA"
   ]
  },
  {
   "cell_type": "code",
   "execution_count": 26,
   "metadata": {},
   "outputs": [],
   "source": [
    "sql_query = \"\"\"\n",
    "SELECT\n",
    "    crsp_q_mutualfunds.monthly_returns.CRSP_FUNDNO,\n",
    "    AVG(crsp_q_mutualfunds.monthly_returns.MRET) AS AVG_MRET,\n",
    "    AVG(crsp_q_mutualfunds.monthly_tna.MTNA) AS AVG_MNTA\n",
    "FROM \n",
    "    crsp_q_mutualfunds.monthly_returns\n",
    "INNER JOIN\n",
    "    crsp_q_mutualfunds.monthly_tna\n",
    "ON\n",
    "    crsp_q_mutualfunds.monthly_returns.CRSP_FUNDNO = crsp_q_mutualfunds.monthly_tna.CRSP_FUNDNO\n",
    "INNER JOIN\n",
    "    crsp_q_mutualfunds.fund_style\n",
    "ON\n",
    "    crsp_q_mutualfunds.monthly_returns.CRSP_FUNDNO = crsp_q_mutualfunds.fund_style.CRSP_FUNDNO\n",
    "WHERE\n",
    "    crsp_q_mutualfunds.fund_style.BEGDT <= crsp_q_mutualfunds.monthly_returns.CALDT AND\n",
    "    crsp_q_mutualfunds.fund_style.ENDDT >= crsp_q_mutualfunds.monthly_returns.CALDT AND\n",
    "    crsp_q_mutualfunds.monthly_returns.CALDT = crsp_q_mutualfunds.monthly_tna.CALDT AND\n",
    "    crsp_q_mutualfunds.fund_style.LIPPER_CLASS = 'SCVE'\n",
    "GROUP BY\n",
    "    crsp_q_mutualfunds.monthly_returns.CRSP_FUNDNO\n",
    "    \n",
    "\"\"\"\n",
    "\n",
    "data_query = db.raw_sql(sql_query)\n",
    "\n",
    "# Annualize Returns\n",
    "data_query['annualReturn'] = (1+data_query['avg_mret'])**12 - 1"
   ]
  },
  {
   "cell_type": "markdown",
   "metadata": {},
   "source": [
    "### Regression"
   ]
  },
  {
   "cell_type": "code",
   "execution_count": 27,
   "metadata": {},
   "outputs": [
    {
     "name": "stdout",
     "output_type": "stream",
     "text": [
      "Coefficient:  -3.3230317766322066e-06\n",
      "Intercept:  0.12313431155469776\n"
     ]
    }
   ],
   "source": [
    "import numpy as np\n",
    "from sklearn.linear_model import LinearRegression\n",
    "\n",
    "# Drop NAs\n",
    "data_queryClean = data_query.dropna(axis=0)\n",
    "reg = LinearRegression().fit(np.array(data_queryClean['avg_mnta'].values).reshape(-1,1), \n",
    "                             np.array(data_queryClean['annualReturn'].values).reshape(-1,1)\n",
    "                            )\n",
    "print('Coefficient: ', reg.coef_[0][0])\n",
    "print('Intercept: ', reg.intercept_[0])\n"
   ]
  },
  {
   "cell_type": "markdown",
   "metadata": {},
   "source": [
    "### Plotting"
   ]
  },
  {
   "cell_type": "code",
   "execution_count": 28,
   "metadata": {},
   "outputs": [
    {
     "data": {
      "text/plain": [
       "<function matplotlib.pyplot.show(*args, **kw)>"
      ]
     },
     "execution_count": 28,
     "metadata": {},
     "output_type": "execute_result"
    },
    {
     "data": {
      "image/png": "[encoded data removed]",
      "text/plain": [
       "<Figure size 432x288 with 1 Axes>"
      ]
     },
     "metadata": {
      "needs_background": "light"
     },
     "output_type": "display_data"
    }
   ],
   "source": [
    "import matplotlib.pyplot as plt\n",
    "\n",
    "plt.scatter(data_queryClean['avg_mnta'], data_queryClean['annualReturn'])\n",
    "plt.plot(data_queryClean['avg_mnta'],reg.predict(np.array(data_queryClean['avg_mnta'].values).reshape(-1,1)), color='red')\n",
    "plt.xlabel('Average Net Total Assets')\n",
    "plt.ylabel('Annualized Return')\n",
    "plt.title('Average Net Total Assets vs Annualized Return')\n",
    "plt.show"
   ]
  },
  {
   "cell_type": "markdown",
   "metadata": {},
   "source": [
    "### Annual Risk"
   ]
  },
  {
   "cell_type": "code",
   "execution_count": 33,
   "metadata": {},
   "outputs": [
    {
     "name": "stdout",
     "output_type": "stream",
     "text": [
      "Coefficient:  -6.205505911508683e-06\n",
      "Intercept:  0.2071962369004242\n",
      "R-squared:  0.0018698032394874886\n"
     ]
    },
    {
     "data": {
      "text/plain": [
       "<function matplotlib.pyplot.show(*args, **kw)>"
      ]
     },
     "execution_count": 33,
     "metadata": {},
     "output_type": "execute_result"
    },
    {
     "data": {
      "image/png": "[encoded data removed]",
      "text/plain": [
       "<Figure size 432x288 with 1 Axes>"
      ]
     },
     "metadata": {
      "needs_background": "light"
     },
     "output_type": "display_data"
    }
   ],
   "source": [
    "# annualize std\n",
    "astd = mstd.copy()\n",
    "astd['astd'] = astd['mret']*np.sqrt(12)\n",
    "\n",
    "# Drop NAs\n",
    "astd = astd.dropna(axis=0)\n",
    "reg = LinearRegression().fit(np.array(astd['mtna'].values).reshape(-1,1), \n",
    "                             np.array(astd['astd'].values).reshape(-1,1)\n",
    "                            )\n",
    "print('Coefficient: ', reg.coef_[0][0])\n",
    "print('Intercept: ', reg.intercept_[0])\n",
    "print('R-squared: ', reg.score(np.array(astd['mtna'].values).reshape(-1,1), \n",
    "                             np.array(astd['astd'].values).reshape(-1,1)))\n",
    "\n",
    "# plot\n",
    "plt.scatter(astd['mtna'], astd['astd'])\n",
    "plt.plot(astd['mtna'],reg.predict(np.array(astd['mtna'].values).reshape(-1,1)), color='red')\n",
    "plt.xlabel('Average Net Total Assets')\n",
    "plt.ylabel('Annualized Risk')\n",
    "plt.title('Average Net Total Assets vs Annualized Std')\n",
    "plt.show"
   ]
  },
  {
   "cell_type": "code",
   "execution_count": null,
   "metadata": {},
   "outputs": [],
   "source": []
  }
 ],
 "metadata": {
  "kernelspec": {
   "display_name": "Python 3",
   "language": "python",
   "name": "python3"
  },
  "language_info": {
   "codemirror_mode": {
    "name": "ipython",
    "version": 3
   },
   "file_extension": ".py",
   "mimetype": "text/x-python",
   "name": "python",
   "nbconvert_exporter": "python",
   "pygments_lexer": "ipython3",
   "version": "3.8.3"
  }
 },
 "nbformat": 4,
 "nbformat_minor": 4
}
