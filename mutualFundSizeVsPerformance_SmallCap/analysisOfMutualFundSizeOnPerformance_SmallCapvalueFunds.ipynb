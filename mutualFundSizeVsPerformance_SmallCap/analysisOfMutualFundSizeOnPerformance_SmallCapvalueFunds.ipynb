{
 "cells": [
  {
   "cell_type": "markdown",
   "metadata": {},
   "source": [
    "# Analysis of Mutual Fund Size on Performance for Small Cap Value Funds"
   ]
  },
  {
   "cell_type": "markdown",
   "metadata": {},
   "source": [
    "Contributing Members: \n",
    "- Jordan Pflum (jdp3998)\n",
    "- Shan Ali (sca763)\n",
    "- David Cruz(dc33332)\n",
    "- Alishah Vidhani (av36285)\n",
    "\n",
    "Date: 10/10/2020\n"
   ]
  },
  {
   "cell_type": "markdown",
   "metadata": {},
   "source": [
    "### Connect to WRDS"
   ]
  },
  {
   "cell_type": "code",
   "execution_count": 1,
   "metadata": {},
   "outputs": [
    {
     "name": "stdin",
     "output_type": "stream",
     "text": [
      "Enter your WRDS username [jorda]: jordandpflum\n",
      "Enter your password: ····················\n"
     ]
    },
    {
     "name": "stdout",
     "output_type": "stream",
     "text": [
      "WRDS recommends setting up a .pgpass file.\n",
      "You can find more info here:\n",
      "https://www.postgresql.org/docs/9.5/static/libpq-pgpass.html.\n",
      "Loading library list...\n",
      "Done\n"
     ]
    }
   ],
   "source": [
    "import wrds\n",
    "db = wrds.Connection()"
   ]
  },
  {
   "cell_type": "markdown",
   "metadata": {},
   "source": [
    "# Testing"
   ]
  },
  {
   "cell_type": "markdown",
   "metadata": {},
   "source": [
    "### Classification Table"
   ]
  },
  {
   "cell_type": "code",
   "execution_count": 4,
   "metadata": {},
   "outputs": [
    {
     "data": {
      "text/html": [
       "<div>\n",
       "<style scoped>\n",
       "    .dataframe tbody tr th:only-of-type {\n",
       "        vertical-align: middle;\n",
       "    }\n",
       "\n",
       "    .dataframe tbody tr th {\n",
       "        vertical-align: top;\n",
       "    }\n",
       "\n",
       "    .dataframe thead th {\n",
       "        text-align: right;\n",
       "    }\n",
       "</style>\n",
       "<table border=\"1\" class=\"dataframe\">\n",
       "  <thead>\n",
       "    <tr style=\"text-align: right;\">\n",
       "      <th></th>\n",
       "      <th>crsp_fundno</th>\n",
       "      <th>begdt</th>\n",
       "      <th>enddt</th>\n",
       "      <th>lipper_class</th>\n",
       "    </tr>\n",
       "  </thead>\n",
       "  <tbody>\n",
       "    <tr>\n",
       "      <th>0</th>\n",
       "      <td>292.0</td>\n",
       "      <td>1999-12-31</td>\n",
       "      <td>2000-08-31</td>\n",
       "      <td>SCVE</td>\n",
       "    </tr>\n",
       "    <tr>\n",
       "      <th>1</th>\n",
       "      <td>479.0</td>\n",
       "      <td>1999-12-31</td>\n",
       "      <td>2000-12-30</td>\n",
       "      <td>SCVE</td>\n",
       "    </tr>\n",
       "    <tr>\n",
       "      <th>2</th>\n",
       "      <td>657.0</td>\n",
       "      <td>1999-12-31</td>\n",
       "      <td>2000-02-29</td>\n",
       "      <td>SCVE</td>\n",
       "    </tr>\n",
       "    <tr>\n",
       "      <th>3</th>\n",
       "      <td>671.0</td>\n",
       "      <td>1999-12-31</td>\n",
       "      <td>2000-06-30</td>\n",
       "      <td>SCVE</td>\n",
       "    </tr>\n",
       "    <tr>\n",
       "      <th>4</th>\n",
       "      <td>709.0</td>\n",
       "      <td>1999-12-31</td>\n",
       "      <td>2000-01-31</td>\n",
       "      <td>SCVE</td>\n",
       "    </tr>\n",
       "  </tbody>\n",
       "</table>\n",
       "</div>"
      ],
      "text/plain": [
       "   crsp_fundno       begdt       enddt lipper_class\n",
       "0        292.0  1999-12-31  2000-08-31         SCVE\n",
       "1        479.0  1999-12-31  2000-12-30         SCVE\n",
       "2        657.0  1999-12-31  2000-02-29         SCVE\n",
       "3        671.0  1999-12-31  2000-06-30         SCVE\n",
       "4        709.0  1999-12-31  2000-01-31         SCVE"
      ]
     },
     "execution_count": 4,
     "metadata": {},
     "output_type": "execute_result"
    }
   ],
   "source": [
    "sql_query = \"\"\"\n",
    "-- Summary Table\n",
    "SELECT\n",
    "    crsp_q_mutualfunds.fund_style.CRSP_FUNDNO,\n",
    "    crsp_q_mutualfunds.fund_style.BEGDT,\n",
    "    crsp_q_mutualfunds.fund_style.ENDDT,\n",
    "    crsp_q_mutualfunds.fund_style.LIPPER_CLASS\n",
    "FROM \n",
    "    crsp_q_mutualfunds.fund_style\n",
    "WHERE\n",
    "    crsp_q_mutualfunds.fund_style.LIPPER_CLASS = 'SCVE'\n",
    "LIMIT 10\n",
    "\"\"\"\n",
    "data_query = db.raw_sql(sql_query)\n",
    "data_query.head()"
   ]
  },
  {
   "cell_type": "markdown",
   "metadata": {},
   "source": [
    "### Monthly Return Data"
   ]
  },
  {
   "cell_type": "code",
   "execution_count": 5,
   "metadata": {},
   "outputs": [
    {
     "data": {
      "text/html": [
       "<div>\n",
       "<style scoped>\n",
       "    .dataframe tbody tr th:only-of-type {\n",
       "        vertical-align: middle;\n",
       "    }\n",
       "\n",
       "    .dataframe tbody tr th {\n",
       "        vertical-align: top;\n",
       "    }\n",
       "\n",
       "    .dataframe thead th {\n",
       "        text-align: right;\n",
       "    }\n",
       "</style>\n",
       "<table border=\"1\" class=\"dataframe\">\n",
       "  <thead>\n",
       "    <tr style=\"text-align: right;\">\n",
       "      <th></th>\n",
       "      <th>crsp_fundno</th>\n",
       "      <th>caldt</th>\n",
       "      <th>mret</th>\n",
       "    </tr>\n",
       "  </thead>\n",
       "  <tbody>\n",
       "    <tr>\n",
       "      <th>0</th>\n",
       "      <td>1.0</td>\n",
       "      <td>1997-02-28</td>\n",
       "      <td>NaN</td>\n",
       "    </tr>\n",
       "    <tr>\n",
       "      <th>1</th>\n",
       "      <td>1.0</td>\n",
       "      <td>1997-03-31</td>\n",
       "      <td>-0.011789</td>\n",
       "    </tr>\n",
       "    <tr>\n",
       "      <th>2</th>\n",
       "      <td>1.0</td>\n",
       "      <td>1997-04-30</td>\n",
       "      <td>0.008417</td>\n",
       "    </tr>\n",
       "    <tr>\n",
       "      <th>3</th>\n",
       "      <td>1.0</td>\n",
       "      <td>1997-05-30</td>\n",
       "      <td>0.013523</td>\n",
       "    </tr>\n",
       "    <tr>\n",
       "      <th>4</th>\n",
       "      <td>1.0</td>\n",
       "      <td>1997-06-30</td>\n",
       "      <td>0.012502</td>\n",
       "    </tr>\n",
       "  </tbody>\n",
       "</table>\n",
       "</div>"
      ],
      "text/plain": [
       "   crsp_fundno       caldt      mret\n",
       "0          1.0  1997-02-28       NaN\n",
       "1          1.0  1997-03-31 -0.011789\n",
       "2          1.0  1997-04-30  0.008417\n",
       "3          1.0  1997-05-30  0.013523\n",
       "4          1.0  1997-06-30  0.012502"
      ]
     },
     "execution_count": 5,
     "metadata": {},
     "output_type": "execute_result"
    }
   ],
   "source": [
    "sql_query = \"\"\"\n",
    "-- Return Table\n",
    "SELECT\n",
    "    crsp_q_mutualfunds.monthly_returns.CRSP_FUNDNO,\n",
    "    crsp_q_mutualfunds.monthly_returns.CALDT,\n",
    "    crsp_q_mutualfunds.monthly_returns.MRET\n",
    "FROM \n",
    "    crsp_q_mutualfunds.monthly_returns\n",
    "LIMIT 10\n",
    "\"\"\"\n",
    "data_query = db.raw_sql(sql_query)\n",
    "data_query.head()"
   ]
  },
  {
   "cell_type": "markdown",
   "metadata": {},
   "source": [
    "### Monthly TNA Table"
   ]
  },
  {
   "cell_type": "code",
   "execution_count": 6,
   "metadata": {},
   "outputs": [
    {
     "data": {
      "text/html": [
       "<div>\n",
       "<style scoped>\n",
       "    .dataframe tbody tr th:only-of-type {\n",
       "        vertical-align: middle;\n",
       "    }\n",
       "\n",
       "    .dataframe tbody tr th {\n",
       "        vertical-align: top;\n",
       "    }\n",
       "\n",
       "    .dataframe thead th {\n",
       "        text-align: right;\n",
       "    }\n",
       "</style>\n",
       "<table border=\"1\" class=\"dataframe\">\n",
       "  <thead>\n",
       "    <tr style=\"text-align: right;\">\n",
       "      <th></th>\n",
       "      <th>crsp_fundno</th>\n",
       "      <th>caldt</th>\n",
       "      <th>mtna</th>\n",
       "    </tr>\n",
       "  </thead>\n",
       "  <tbody>\n",
       "    <tr>\n",
       "      <th>0</th>\n",
       "      <td>1.0</td>\n",
       "      <td>1997-01-31</td>\n",
       "      <td>0.100</td>\n",
       "    </tr>\n",
       "    <tr>\n",
       "      <th>1</th>\n",
       "      <td>1.0</td>\n",
       "      <td>1997-02-28</td>\n",
       "      <td>3.926</td>\n",
       "    </tr>\n",
       "    <tr>\n",
       "      <th>2</th>\n",
       "      <td>1.0</td>\n",
       "      <td>1997-03-31</td>\n",
       "      <td>12.081</td>\n",
       "    </tr>\n",
       "    <tr>\n",
       "      <th>3</th>\n",
       "      <td>1.0</td>\n",
       "      <td>1997-04-30</td>\n",
       "      <td>20.540</td>\n",
       "    </tr>\n",
       "    <tr>\n",
       "      <th>4</th>\n",
       "      <td>1.0</td>\n",
       "      <td>1997-05-30</td>\n",
       "      <td>26.157</td>\n",
       "    </tr>\n",
       "  </tbody>\n",
       "</table>\n",
       "</div>"
      ],
      "text/plain": [
       "   crsp_fundno       caldt    mtna\n",
       "0          1.0  1997-01-31   0.100\n",
       "1          1.0  1997-02-28   3.926\n",
       "2          1.0  1997-03-31  12.081\n",
       "3          1.0  1997-04-30  20.540\n",
       "4          1.0  1997-05-30  26.157"
      ]
     },
     "execution_count": 6,
     "metadata": {},
     "output_type": "execute_result"
    }
   ],
   "source": [
    "sql_query = \"\"\"\n",
    "-- TNA Table\n",
    "SELECT\n",
    "    crsp_q_mutualfunds.monthly_tna.CRSP_FUNDNO,\n",
    "    crsp_q_mutualfunds.monthly_tna.CALDT,\n",
    "    crsp_q_mutualfunds.monthly_tna.MTNA\n",
    "FROM \n",
    "    crsp_q_mutualfunds.monthly_tna\n",
    "LIMIT 10\n",
    "\"\"\"\n",
    "data_query = db.raw_sql(sql_query)\n",
    "data_query.head()"
   ]
  },
  {
   "cell_type": "markdown",
   "metadata": {},
   "source": [
    "## Monthly Return vs Monthly TNA"
   ]
  },
  {
   "cell_type": "markdown",
   "metadata": {},
   "source": [
    "### SQL Query"
   ]
  },
  {
   "cell_type": "code",
   "execution_count": 21,
   "metadata": {},
   "outputs": [],
   "source": [
    "sql_query = \"\"\"\n",
    "SELECT\n",
    "    crsp_q_mutualfunds.monthly_returns.CRSP_FUNDNO,\n",
    "    crsp_q_mutualfunds.monthly_returns.CALDT,\n",
    "    crsp_q_mutualfunds.monthly_returns.MRET,\n",
    "    crsp_q_mutualfunds.monthly_tna.MTNA\n",
    "FROM \n",
    "    crsp_q_mutualfunds.monthly_returns\n",
    "INNER JOIN\n",
    "    crsp_q_mutualfunds.monthly_tna\n",
    "ON\n",
    "    crsp_q_mutualfunds.monthly_returns.CRSP_FUNDNO = crsp_q_mutualfunds.monthly_tna.CRSP_FUNDNO\n",
    "INNER JOIN\n",
    "    crsp_q_mutualfunds.fund_style\n",
    "ON\n",
    "    crsp_q_mutualfunds.monthly_returns.CRSP_FUNDNO = crsp_q_mutualfunds.fund_style.CRSP_FUNDNO\n",
    "WHERE\n",
    "    crsp_q_mutualfunds.fund_style.BEGDT <= crsp_q_mutualfunds.monthly_returns.CALDT AND\n",
    "    crsp_q_mutualfunds.fund_style.ENDDT >= crsp_q_mutualfunds.monthly_returns.CALDT AND\n",
    "    crsp_q_mutualfunds.monthly_returns.CALDT = crsp_q_mutualfunds.monthly_tna.CALDT AND\n",
    "    crsp_q_mutualfunds.fund_style.LIPPER_CLASS = 'SCVE'\n",
    "ORDER BY\n",
    "    crsp_q_mutualfunds.monthly_returns.CRSP_FUNDNO,\n",
    "    crsp_q_mutualfunds.monthly_returns.CALDT\n",
    "\"\"\"\n",
    "\n",
    "data_query = db.raw_sql(sql_query)"
   ]
  },
  {
   "cell_type": "markdown",
   "metadata": {},
   "source": [
    "### Regression"
   ]
  },
  {
   "cell_type": "code",
   "execution_count": 22,
   "metadata": {},
   "outputs": [
    {
     "name": "stdout",
     "output_type": "stream",
     "text": [
      "Coefficient:  3.7360515651713603e-07\n",
      "Intercept:  0.00729084206665463\n"
     ]
    }
   ],
   "source": [
    "import numpy as np\n",
    "from sklearn.linear_model import LinearRegression\n",
    "\n",
    "# Drop NAs\n",
    "data_queryClean = data_query.dropna(axis=0)\n",
    "reg = LinearRegression().fit(np.array(data_queryClean['mtna'].values).reshape(-1,1), \n",
    "                             np.array(data_queryClean['mret'].values).reshape(-1,1)\n",
    "                            )\n",
    "print('Coefficient: ', reg.coef_[0][0])\n",
    "print('Intercept: ', reg.intercept_[0])"
   ]
  },
  {
   "cell_type": "code",
   "execution_count": 23,
   "metadata": {},
   "outputs": [
    {
     "data": {
      "text/html": [
       "<table class=\"simpletable\">\n",
       "<caption>OLS Regression Results</caption>\n",
       "<tr>\n",
       "  <th>Dep. Variable:</th>            <td>y</td>        <th>  R-squared:         </th>  <td>   0.000</td> \n",
       "</tr>\n",
       "<tr>\n",
       "  <th>Model:</th>                   <td>OLS</td>       <th>  Adj. R-squared:    </th>  <td>   0.000</td> \n",
       "</tr>\n",
       "<tr>\n",
       "  <th>Method:</th>             <td>Least Squares</td>  <th>  F-statistic:       </th>  <td>   2.612</td> \n",
       "</tr>\n",
       "<tr>\n",
       "  <th>Date:</th>             <td>Tue, 12 Jan 2021</td> <th>  Prob (F-statistic):</th>   <td> 0.106</td>  \n",
       "</tr>\n",
       "<tr>\n",
       "  <th>Time:</th>                 <td>18:27:07</td>     <th>  Log-Likelihood:    </th> <td>1.1278e+05</td>\n",
       "</tr>\n",
       "<tr>\n",
       "  <th>No. Observations:</th>      <td> 79606</td>      <th>  AIC:               </th> <td>-2.256e+05</td>\n",
       "</tr>\n",
       "<tr>\n",
       "  <th>Df Residuals:</th>          <td> 79604</td>      <th>  BIC:               </th> <td>-2.255e+05</td>\n",
       "</tr>\n",
       "<tr>\n",
       "  <th>Df Model:</th>              <td>     1</td>      <th>                     </th>      <td> </td>    \n",
       "</tr>\n",
       "<tr>\n",
       "  <th>Covariance Type:</th>      <td>nonrobust</td>    <th>                     </th>      <td> </td>    \n",
       "</tr>\n",
       "</table>\n",
       "<table class=\"simpletable\">\n",
       "<tr>\n",
       "    <td></td>       <th>coef</th>     <th>std err</th>      <th>t</th>      <th>P>|t|</th>  <th>[0.025</th>    <th>0.975]</th>  \n",
       "</tr>\n",
       "<tr>\n",
       "  <th>const</th> <td>    0.0073</td> <td>    0.000</td> <td>   33.699</td> <td> 0.000</td> <td>    0.007</td> <td>    0.008</td>\n",
       "</tr>\n",
       "<tr>\n",
       "  <th>x1</th>    <td> 3.736e-07</td> <td> 2.31e-07</td> <td>    1.616</td> <td> 0.106</td> <td>-7.95e-08</td> <td> 8.27e-07</td>\n",
       "</tr>\n",
       "</table>\n",
       "<table class=\"simpletable\">\n",
       "<tr>\n",
       "  <th>Omnibus:</th>       <td>19927.989</td> <th>  Durbin-Watson:     </th>  <td>   1.915</td>  \n",
       "</tr>\n",
       "<tr>\n",
       "  <th>Prob(Omnibus):</th>  <td> 0.000</td>   <th>  Jarque-Bera (JB):  </th> <td>1541403.954</td>\n",
       "</tr>\n",
       "<tr>\n",
       "  <th>Skew:</th>           <td>-0.025</td>   <th>  Prob(JB):          </th>  <td>    0.00</td>  \n",
       "</tr>\n",
       "<tr>\n",
       "  <th>Kurtosis:</th>       <td>24.557</td>   <th>  Cond. No.          </th>  <td>    974.</td>  \n",
       "</tr>\n",
       "</table><br/><br/>Notes:<br/>[1] Standard Errors assume that the covariance matrix of the errors is correctly specified."
      ],
      "text/plain": [
       "<class 'statsmodels.iolib.summary.Summary'>\n",
       "\"\"\"\n",
       "                            OLS Regression Results                            \n",
       "==============================================================================\n",
       "Dep. Variable:                      y   R-squared:                       0.000\n",
       "Model:                            OLS   Adj. R-squared:                  0.000\n",
       "Method:                 Least Squares   F-statistic:                     2.612\n",
       "Date:                Tue, 12 Jan 2021   Prob (F-statistic):              0.106\n",
       "Time:                        18:27:07   Log-Likelihood:             1.1278e+05\n",
       "No. Observations:               79606   AIC:                        -2.256e+05\n",
       "Df Residuals:                   79604   BIC:                        -2.255e+05\n",
       "Df Model:                           1                                         \n",
       "Covariance Type:            nonrobust                                         \n",
       "==============================================================================\n",
       "                 coef    std err          t      P>|t|      [0.025      0.975]\n",
       "------------------------------------------------------------------------------\n",
       "const          0.0073      0.000     33.699      0.000       0.007       0.008\n",
       "x1          3.736e-07   2.31e-07      1.616      0.106   -7.95e-08    8.27e-07\n",
       "==============================================================================\n",
       "Omnibus:                    19927.989   Durbin-Watson:                   1.915\n",
       "Prob(Omnibus):                  0.000   Jarque-Bera (JB):          1541403.954\n",
       "Skew:                          -0.025   Prob(JB):                         0.00\n",
       "Kurtosis:                      24.557   Cond. No.                         974.\n",
       "==============================================================================\n",
       "\n",
       "Notes:\n",
       "[1] Standard Errors assume that the covariance matrix of the errors is correctly specified.\n",
       "\"\"\""
      ]
     },
     "execution_count": 23,
     "metadata": {},
     "output_type": "execute_result"
    }
   ],
   "source": [
    "import statsmodels.api as sm\n",
    "import pandas as pd\n",
    "\n",
    "X_with_intercept = np.empty(shape=(len(data_queryClean['mtna']), 2), dtype=np.float)\n",
    "X_with_intercept[:, 0] = 1\n",
    "X_with_intercept[:, 1:2] = pd.DataFrame(data_queryClean['mtna']).values\n",
    "\n",
    "sm.OLS(np.array(data_queryClean['mret'].values).reshape(-1,1),\n",
    "       np.array(X_with_intercept)).fit().summary()"
   ]
  },
  {
   "cell_type": "markdown",
   "metadata": {},
   "source": [
    "### Plotting"
   ]
  },
  {
   "cell_type": "code",
   "execution_count": 27,
   "metadata": {},
   "outputs": [
    {
     "data": {
      "text/plain": [
       "<function matplotlib.pyplot.show(close=None, block=None)>"
      ]
     },
     "execution_count": 27,
     "metadata": {},
     "output_type": "execute_result"
    },
    {
     "data": {
      "image/png": "[encoded data removed]",
      "text/plain": [
       "<Figure size 432x288 with 1 Axes>"
      ]
     },
     "metadata": {
      "needs_background": "light"
     },
     "output_type": "display_data"
    }
   ],
   "source": [
    "import matplotlib.pyplot as plt\n",
    "\n",
    "plt.scatter(data_queryClean['mtna'], data_queryClean['mret'])\n",
    "plt.plot(data_queryClean['mtna'],reg.predict(np.array(data_queryClean['mtna'].values).reshape(-1,1)), color='red')\n",
    "plt.xlabel('Total Net Assets (Monthly)')\n",
    "plt.ylabel('Monthly Return (Monthly)')\n",
    "plt.title('Total Net Assets vs Monthly Return (Monthly)')\n",
    "#plt.savefig('Images/returnVsTNA_Monthly.png')\n",
    "plt.show"
   ]
  },
  {
   "cell_type": "markdown",
   "metadata": {},
   "source": [
    "## Monthly Risk vs Average Total Net Assets"
   ]
  },
  {
   "cell_type": "code",
   "execution_count": 7,
   "metadata": {},
   "outputs": [],
   "source": [
    "# get std\n",
    "mstd = data_query.groupby(['crsp_fundno']).agg({'mret':'std','mtna':'mean'})\n",
    "# Drop NAs\n",
    "mstd = mstd.dropna(axis=0)"
   ]
  },
  {
   "cell_type": "markdown",
   "metadata": {},
   "source": [
    "### Regression"
   ]
  },
  {
   "cell_type": "code",
   "execution_count": 9,
   "metadata": {},
   "outputs": [
    {
     "name": "stdout",
     "output_type": "stream",
     "text": [
      "Coefficient:  -1.666713396613785e-06\n",
      "Intercept:  0.059234756646400696\n",
      "R-squared:  0.001883022418393332\n"
     ]
    }
   ],
   "source": [
    "\n",
    "reg = LinearRegression().fit(np.array(mstd['mtna'].values).reshape(-1,1), \n",
    "                             np.array(mstd['mret'].values).reshape(-1,1)\n",
    "                            )\n",
    "print('Coefficient: ', reg.coef_[0][0])\n",
    "print('Intercept: ', reg.intercept_[0])\n",
    "print('R-squared: ', reg.score(np.array(mstd['mtna'].values).reshape(-1,1), \n",
    "                             np.array(mstd['mret'].values).reshape(-1,1)))"
   ]
  },
  {
   "cell_type": "code",
   "execution_count": 10,
   "metadata": {},
   "outputs": [
    {
     "data": {
      "text/html": [
       "<table class=\"simpletable\">\n",
       "<caption>OLS Regression Results</caption>\n",
       "<tr>\n",
       "  <th>Dep. Variable:</th>            <td>y</td>        <th>  R-squared:         </th> <td>   0.002</td>\n",
       "</tr>\n",
       "<tr>\n",
       "  <th>Model:</th>                   <td>OLS</td>       <th>  Adj. R-squared:    </th> <td>   0.001</td>\n",
       "</tr>\n",
       "<tr>\n",
       "  <th>Method:</th>             <td>Least Squares</td>  <th>  F-statistic:       </th> <td>   2.602</td>\n",
       "</tr>\n",
       "<tr>\n",
       "  <th>Date:</th>             <td>Tue, 12 Jan 2021</td> <th>  Prob (F-statistic):</th>  <td> 0.107</td> \n",
       "</tr>\n",
       "<tr>\n",
       "  <th>Time:</th>                 <td>18:06:18</td>     <th>  Log-Likelihood:    </th> <td>  3404.6</td>\n",
       "</tr>\n",
       "<tr>\n",
       "  <th>No. Observations:</th>      <td>  1381</td>      <th>  AIC:               </th> <td>  -6805.</td>\n",
       "</tr>\n",
       "<tr>\n",
       "  <th>Df Residuals:</th>          <td>  1379</td>      <th>  BIC:               </th> <td>  -6795.</td>\n",
       "</tr>\n",
       "<tr>\n",
       "  <th>Df Model:</th>              <td>     1</td>      <th>                     </th>     <td> </td>   \n",
       "</tr>\n",
       "<tr>\n",
       "  <th>Covariance Type:</th>      <td>nonrobust</td>    <th>                     </th>     <td> </td>   \n",
       "</tr>\n",
       "</table>\n",
       "<table class=\"simpletable\">\n",
       "<tr>\n",
       "    <td></td>       <th>coef</th>     <th>std err</th>      <th>t</th>      <th>P>|t|</th>  <th>[0.025</th>    <th>0.975]</th>  \n",
       "</tr>\n",
       "<tr>\n",
       "  <th>const</th> <td>    0.0592</td> <td>    0.001</td> <td>  103.283</td> <td> 0.000</td> <td>    0.058</td> <td>    0.060</td>\n",
       "</tr>\n",
       "<tr>\n",
       "  <th>x1</th>    <td>-1.667e-06</td> <td> 1.03e-06</td> <td>   -1.613</td> <td> 0.107</td> <td>-3.69e-06</td> <td>  3.6e-07</td>\n",
       "</tr>\n",
       "</table>\n",
       "<table class=\"simpletable\">\n",
       "<tr>\n",
       "  <th>Omnibus:</th>       <td>612.208</td> <th>  Durbin-Watson:     </th> <td>   1.170</td>\n",
       "</tr>\n",
       "<tr>\n",
       "  <th>Prob(Omnibus):</th> <td> 0.000</td>  <th>  Jarque-Bera (JB):  </th> <td>4603.261</td>\n",
       "</tr>\n",
       "<tr>\n",
       "  <th>Skew:</th>          <td> 1.897</td>  <th>  Prob(JB):          </th> <td>    0.00</td>\n",
       "</tr>\n",
       "<tr>\n",
       "  <th>Kurtosis:</th>      <td>11.100</td>  <th>  Cond. No.          </th> <td>    575.</td>\n",
       "</tr>\n",
       "</table><br/><br/>Notes:<br/>[1] Standard Errors assume that the covariance matrix of the errors is correctly specified."
      ],
      "text/plain": [
       "<class 'statsmodels.iolib.summary.Summary'>\n",
       "\"\"\"\n",
       "                            OLS Regression Results                            \n",
       "==============================================================================\n",
       "Dep. Variable:                      y   R-squared:                       0.002\n",
       "Model:                            OLS   Adj. R-squared:                  0.001\n",
       "Method:                 Least Squares   F-statistic:                     2.602\n",
       "Date:                Tue, 12 Jan 2021   Prob (F-statistic):              0.107\n",
       "Time:                        18:06:18   Log-Likelihood:                 3404.6\n",
       "No. Observations:                1381   AIC:                            -6805.\n",
       "Df Residuals:                    1379   BIC:                            -6795.\n",
       "Df Model:                           1                                         \n",
       "Covariance Type:            nonrobust                                         \n",
       "==============================================================================\n",
       "                 coef    std err          t      P>|t|      [0.025      0.975]\n",
       "------------------------------------------------------------------------------\n",
       "const          0.0592      0.001    103.283      0.000       0.058       0.060\n",
       "x1         -1.667e-06   1.03e-06     -1.613      0.107   -3.69e-06     3.6e-07\n",
       "==============================================================================\n",
       "Omnibus:                      612.208   Durbin-Watson:                   1.170\n",
       "Prob(Omnibus):                  0.000   Jarque-Bera (JB):             4603.261\n",
       "Skew:                           1.897   Prob(JB):                         0.00\n",
       "Kurtosis:                      11.100   Cond. No.                         575.\n",
       "==============================================================================\n",
       "\n",
       "Notes:\n",
       "[1] Standard Errors assume that the covariance matrix of the errors is correctly specified.\n",
       "\"\"\""
      ]
     },
     "execution_count": 10,
     "metadata": {},
     "output_type": "execute_result"
    }
   ],
   "source": [
    "import statsmodels.api as sm\n",
    "import pandas as pd\n",
    "\n",
    "X_with_intercept = np.empty(shape=(len(mstd['mtna']), 2), dtype=np.float)\n",
    "X_with_intercept[:, 0] = 1\n",
    "X_with_intercept[:, 1:2] = pd.DataFrame(mstd['mtna']).values\n",
    "\n",
    "sm.OLS(np.array(mstd['mret'].values).reshape(-1,1),\n",
    "       np.array(X_with_intercept)).fit().summary()"
   ]
  },
  {
   "cell_type": "markdown",
   "metadata": {},
   "source": [
    "### Plotting"
   ]
  },
  {
   "cell_type": "code",
   "execution_count": 29,
   "metadata": {},
   "outputs": [
    {
     "data": {
      "text/plain": [
       "<function matplotlib.pyplot.show(close=None, block=None)>"
      ]
     },
     "execution_count": 29,
     "metadata": {},
     "output_type": "execute_result"
    },
    {
     "data": {
      "image/png": "[encoded data removed]",
      "text/plain": [
       "<Figure size 432x288 with 1 Axes>"
      ]
     },
     "metadata": {
      "needs_background": "light"
     },
     "output_type": "display_data"
    }
   ],
   "source": [
    "# plot\n",
    "plt.scatter(mstd['mtna'], mstd['mret'])\n",
    "plt.plot(mstd['mtna'],reg.predict(np.array(mstd['mtna'].values).reshape(-1,1)), color='red')\n",
    "plt.xlabel('Total Net Assets (Monthly)')\n",
    "plt.ylabel('Risk (Monthly Std)')\n",
    "plt.title('Total Net Assets vs Monthly Risk')\n",
    "#plt.savefig('Images/riskVsTNA_Monthly.png')\n",
    "plt.show"
   ]
  },
  {
   "cell_type": "markdown",
   "metadata": {},
   "source": [
    "## Annualzed Returns vs Average TNA"
   ]
  },
  {
   "cell_type": "markdown",
   "metadata": {},
   "source": [
    "### SQL Query"
   ]
  },
  {
   "cell_type": "code",
   "execution_count": 31,
   "metadata": {},
   "outputs": [],
   "source": [
    "sql_query = \"\"\"\n",
    "SELECT\n",
    "    crsp_q_mutualfunds.monthly_returns.CRSP_FUNDNO,\n",
    "    AVG(crsp_q_mutualfunds.monthly_returns.MRET) AS AVG_MRET,\n",
    "    AVG(crsp_q_mutualfunds.monthly_tna.MTNA) AS AVG_MNTA\n",
    "FROM \n",
    "    crsp_q_mutualfunds.monthly_returns\n",
    "INNER JOIN\n",
    "    crsp_q_mutualfunds.monthly_tna\n",
    "ON\n",
    "    crsp_q_mutualfunds.monthly_returns.CRSP_FUNDNO = crsp_q_mutualfunds.monthly_tna.CRSP_FUNDNO\n",
    "INNER JOIN\n",
    "    crsp_q_mutualfunds.fund_style\n",
    "ON\n",
    "    crsp_q_mutualfunds.monthly_returns.CRSP_FUNDNO = crsp_q_mutualfunds.fund_style.CRSP_FUNDNO\n",
    "WHERE\n",
    "    crsp_q_mutualfunds.fund_style.BEGDT <= crsp_q_mutualfunds.monthly_returns.CALDT AND\n",
    "    crsp_q_mutualfunds.fund_style.ENDDT >= crsp_q_mutualfunds.monthly_returns.CALDT AND\n",
    "    crsp_q_mutualfunds.monthly_returns.CALDT = crsp_q_mutualfunds.monthly_tna.CALDT AND\n",
    "    crsp_q_mutualfunds.fund_style.LIPPER_CLASS = 'SCVE'\n",
    "GROUP BY\n",
    "    crsp_q_mutualfunds.monthly_returns.CRSP_FUNDNO\n",
    "    \n",
    "\"\"\"\n",
    "\n",
    "data_query = db.raw_sql(sql_query)\n",
    "\n",
    "# Annualize Returns\n",
    "data_query['annualReturn'] = (1+data_query['avg_mret'])**12 - 1"
   ]
  },
  {
   "cell_type": "markdown",
   "metadata": {},
   "source": [
    "### Regression"
   ]
  },
  {
   "cell_type": "code",
   "execution_count": 32,
   "metadata": {},
   "outputs": [
    {
     "name": "stdout",
     "output_type": "stream",
     "text": [
      "Coefficient:  -3.7054026879250534e-06\n",
      "Intercept:  0.12559512095682215\n"
     ]
    }
   ],
   "source": [
    "import numpy as np\n",
    "from sklearn.linear_model import LinearRegression\n",
    "\n",
    "# Drop NAs\n",
    "data_queryClean = data_query.dropna(axis=0)\n",
    "reg = LinearRegression().fit(np.array(data_queryClean['avg_mnta'].values).reshape(-1,1), \n",
    "                             np.array(data_queryClean['annualReturn'].values).reshape(-1,1)\n",
    "                            )\n",
    "print('Coefficient: ', reg.coef_[0][0])\n",
    "print('Intercept: ', reg.intercept_[0])"
   ]
  },
  {
   "cell_type": "code",
   "execution_count": 33,
   "metadata": {},
   "outputs": [
    {
     "data": {
      "text/html": [
       "<table class=\"simpletable\">\n",
       "<caption>OLS Regression Results</caption>\n",
       "<tr>\n",
       "  <th>Dep. Variable:</th>            <td>y</td>        <th>  R-squared:         </th> <td>   0.000</td>\n",
       "</tr>\n",
       "<tr>\n",
       "  <th>Model:</th>                   <td>OLS</td>       <th>  Adj. R-squared:    </th> <td>  -0.001</td>\n",
       "</tr>\n",
       "<tr>\n",
       "  <th>Method:</th>             <td>Least Squares</td>  <th>  F-statistic:       </th> <td> 0.02915</td>\n",
       "</tr>\n",
       "<tr>\n",
       "  <th>Date:</th>             <td>Tue, 12 Jan 2021</td> <th>  Prob (F-statistic):</th>  <td> 0.864</td> \n",
       "</tr>\n",
       "<tr>\n",
       "  <th>Time:</th>                 <td>18:28:38</td>     <th>  Log-Likelihood:    </th> <td> -808.65</td>\n",
       "</tr>\n",
       "<tr>\n",
       "  <th>No. Observations:</th>      <td>  1395</td>      <th>  AIC:               </th> <td>   1621.</td>\n",
       "</tr>\n",
       "<tr>\n",
       "  <th>Df Residuals:</th>          <td>  1393</td>      <th>  BIC:               </th> <td>   1632.</td>\n",
       "</tr>\n",
       "<tr>\n",
       "  <th>Df Model:</th>              <td>     1</td>      <th>                     </th>     <td> </td>   \n",
       "</tr>\n",
       "<tr>\n",
       "  <th>Covariance Type:</th>      <td>nonrobust</td>    <th>                     </th>     <td> </td>   \n",
       "</tr>\n",
       "</table>\n",
       "<table class=\"simpletable\">\n",
       "<tr>\n",
       "    <td></td>       <th>coef</th>     <th>std err</th>      <th>t</th>      <th>P>|t|</th>  <th>[0.025</th>    <th>0.975]</th>  \n",
       "</tr>\n",
       "<tr>\n",
       "  <th>const</th> <td>    0.1256</td> <td>    0.012</td> <td>   10.479</td> <td> 0.000</td> <td>    0.102</td> <td>    0.149</td>\n",
       "</tr>\n",
       "<tr>\n",
       "  <th>x1</th>    <td>-3.705e-06</td> <td> 2.17e-05</td> <td>   -0.171</td> <td> 0.864</td> <td>-4.63e-05</td> <td> 3.89e-05</td>\n",
       "</tr>\n",
       "</table>\n",
       "<table class=\"simpletable\">\n",
       "<tr>\n",
       "  <th>Omnibus:</th>       <td>2773.568</td> <th>  Durbin-Watson:     </th>  <td>   0.713</td>  \n",
       "</tr>\n",
       "<tr>\n",
       "  <th>Prob(Omnibus):</th>  <td> 0.000</td>  <th>  Jarque-Bera (JB):  </th> <td>4839316.170</td>\n",
       "</tr>\n",
       "<tr>\n",
       "  <th>Skew:</th>           <td>15.426</td>  <th>  Prob(JB):          </th>  <td>    0.00</td>  \n",
       "</tr>\n",
       "<tr>\n",
       "  <th>Kurtosis:</th>       <td>289.889</td> <th>  Cond. No.          </th>  <td>    572.</td>  \n",
       "</tr>\n",
       "</table><br/><br/>Notes:<br/>[1] Standard Errors assume that the covariance matrix of the errors is correctly specified."
      ],
      "text/plain": [
       "<class 'statsmodels.iolib.summary.Summary'>\n",
       "\"\"\"\n",
       "                            OLS Regression Results                            \n",
       "==============================================================================\n",
       "Dep. Variable:                      y   R-squared:                       0.000\n",
       "Model:                            OLS   Adj. R-squared:                 -0.001\n",
       "Method:                 Least Squares   F-statistic:                   0.02915\n",
       "Date:                Tue, 12 Jan 2021   Prob (F-statistic):              0.864\n",
       "Time:                        18:28:38   Log-Likelihood:                -808.65\n",
       "No. Observations:                1395   AIC:                             1621.\n",
       "Df Residuals:                    1393   BIC:                             1632.\n",
       "Df Model:                           1                                         \n",
       "Covariance Type:            nonrobust                                         \n",
       "==============================================================================\n",
       "                 coef    std err          t      P>|t|      [0.025      0.975]\n",
       "------------------------------------------------------------------------------\n",
       "const          0.1256      0.012     10.479      0.000       0.102       0.149\n",
       "x1         -3.705e-06   2.17e-05     -0.171      0.864   -4.63e-05    3.89e-05\n",
       "==============================================================================\n",
       "Omnibus:                     2773.568   Durbin-Watson:                   0.713\n",
       "Prob(Omnibus):                  0.000   Jarque-Bera (JB):          4839316.170\n",
       "Skew:                          15.426   Prob(JB):                         0.00\n",
       "Kurtosis:                     289.889   Cond. No.                         572.\n",
       "==============================================================================\n",
       "\n",
       "Notes:\n",
       "[1] Standard Errors assume that the covariance matrix of the errors is correctly specified.\n",
       "\"\"\""
      ]
     },
     "execution_count": 33,
     "metadata": {},
     "output_type": "execute_result"
    }
   ],
   "source": [
    "import statsmodels.api as sm\n",
    "import pandas as pd\n",
    "\n",
    "X_with_intercept = np.empty(shape=(len(data_queryClean['avg_mnta']), 2), dtype=np.float)\n",
    "X_with_intercept[:, 0] = 1\n",
    "X_with_intercept[:, 1:2] = pd.DataFrame(data_queryClean['avg_mnta']).values\n",
    "\n",
    "sm.OLS(np.array(data_queryClean['annualReturn'].values).reshape(-1,1),\n",
    "       np.array(X_with_intercept)).fit().summary()"
   ]
  },
  {
   "cell_type": "markdown",
   "metadata": {},
   "source": [
    "### Plotting"
   ]
  },
  {
   "cell_type": "code",
   "execution_count": 35,
   "metadata": {},
   "outputs": [
    {
     "data": {
      "text/plain": [
       "<function matplotlib.pyplot.show(close=None, block=None)>"
      ]
     },
     "execution_count": 35,
     "metadata": {},
     "output_type": "execute_result"
    },
    {
     "data": {
      "image/png": "[encoded data removed]",
      "text/plain": [
       "<Figure size 432x288 with 1 Axes>"
      ]
     },
     "metadata": {
      "needs_background": "light"
     },
     "output_type": "display_data"
    }
   ],
   "source": [
    "import matplotlib.pyplot as plt\n",
    "\n",
    "plt.scatter(data_queryClean['avg_mnta'], data_queryClean['annualReturn'])\n",
    "plt.plot(data_queryClean['avg_mnta'],reg.predict(np.array(data_queryClean['annualReturn'].values).reshape(-1,1)), color='red')\n",
    "plt.xlabel('Average Total Net Assets')\n",
    "plt.ylabel('Annualized Return')\n",
    "plt.title('Average Total Net Assets vs Annualized Return')\n",
    "#plt.savefig('Images/returnVsTNA_annualized.png')\n",
    "plt.show"
   ]
  },
  {
   "cell_type": "code",
   "execution_count": null,
   "metadata": {},
   "outputs": [],
   "source": []
  },
  {
   "cell_type": "markdown",
   "metadata": {},
   "source": [
    "## Annual Risk vs Average TNA"
   ]
  },
  {
   "cell_type": "code",
   "execution_count": 16,
   "metadata": {},
   "outputs": [],
   "source": [
    "# annualize std\n",
    "astd = mstd.copy()\n",
    "astd['astd'] = astd['mret']*np.sqrt(12)\n",
    "\n",
    "# Drop NAs\n",
    "astd = astd.dropna(axis=0)"
   ]
  },
  {
   "cell_type": "markdown",
   "metadata": {},
   "source": [
    "### Regression"
   ]
  },
  {
   "cell_type": "code",
   "execution_count": 17,
   "metadata": {},
   "outputs": [
    {
     "name": "stdout",
     "output_type": "stream",
     "text": [
      "Coefficient:  -5.773664569181545e-06\n",
      "Intercept:  0.2051952161710885\n",
      "R-squared:  0.001883022418393443\n"
     ]
    }
   ],
   "source": [
    "reg = LinearRegression().fit(np.array(astd['mtna'].values).reshape(-1,1), \n",
    "                             np.array(astd['astd'].values).reshape(-1,1)\n",
    "                            )\n",
    "print('Coefficient: ', reg.coef_[0][0])\n",
    "print('Intercept: ', reg.intercept_[0])\n",
    "print('R-squared: ', reg.score(np.array(astd['mtna'].values).reshape(-1,1), \n",
    "                             np.array(astd['astd'].values).reshape(-1,1)))"
   ]
  },
  {
   "cell_type": "code",
   "execution_count": 18,
   "metadata": {},
   "outputs": [
    {
     "data": {
      "text/html": [
       "<table class=\"simpletable\">\n",
       "<caption>OLS Regression Results</caption>\n",
       "<tr>\n",
       "  <th>Dep. Variable:</th>            <td>y</td>        <th>  R-squared:         </th> <td>   0.002</td>\n",
       "</tr>\n",
       "<tr>\n",
       "  <th>Model:</th>                   <td>OLS</td>       <th>  Adj. R-squared:    </th> <td>   0.001</td>\n",
       "</tr>\n",
       "<tr>\n",
       "  <th>Method:</th>             <td>Least Squares</td>  <th>  F-statistic:       </th> <td>   2.602</td>\n",
       "</tr>\n",
       "<tr>\n",
       "  <th>Date:</th>             <td>Tue, 12 Jan 2021</td> <th>  Prob (F-statistic):</th>  <td> 0.107</td> \n",
       "</tr>\n",
       "<tr>\n",
       "  <th>Time:</th>                 <td>18:07:21</td>     <th>  Log-Likelihood:    </th> <td>  1688.8</td>\n",
       "</tr>\n",
       "<tr>\n",
       "  <th>No. Observations:</th>      <td>  1381</td>      <th>  AIC:               </th> <td>  -3374.</td>\n",
       "</tr>\n",
       "<tr>\n",
       "  <th>Df Residuals:</th>          <td>  1379</td>      <th>  BIC:               </th> <td>  -3363.</td>\n",
       "</tr>\n",
       "<tr>\n",
       "  <th>Df Model:</th>              <td>     1</td>      <th>                     </th>     <td> </td>   \n",
       "</tr>\n",
       "<tr>\n",
       "  <th>Covariance Type:</th>      <td>nonrobust</td>    <th>                     </th>     <td> </td>   \n",
       "</tr>\n",
       "</table>\n",
       "<table class=\"simpletable\">\n",
       "<tr>\n",
       "    <td></td>       <th>coef</th>     <th>std err</th>      <th>t</th>      <th>P>|t|</th>  <th>[0.025</th>    <th>0.975]</th>  \n",
       "</tr>\n",
       "<tr>\n",
       "  <th>const</th> <td>    0.2052</td> <td>    0.002</td> <td>  103.283</td> <td> 0.000</td> <td>    0.201</td> <td>    0.209</td>\n",
       "</tr>\n",
       "<tr>\n",
       "  <th>x1</th>    <td>-5.774e-06</td> <td> 3.58e-06</td> <td>   -1.613</td> <td> 0.107</td> <td>-1.28e-05</td> <td> 1.25e-06</td>\n",
       "</tr>\n",
       "</table>\n",
       "<table class=\"simpletable\">\n",
       "<tr>\n",
       "  <th>Omnibus:</th>       <td>612.208</td> <th>  Durbin-Watson:     </th> <td>   1.170</td>\n",
       "</tr>\n",
       "<tr>\n",
       "  <th>Prob(Omnibus):</th> <td> 0.000</td>  <th>  Jarque-Bera (JB):  </th> <td>4603.261</td>\n",
       "</tr>\n",
       "<tr>\n",
       "  <th>Skew:</th>          <td> 1.897</td>  <th>  Prob(JB):          </th> <td>    0.00</td>\n",
       "</tr>\n",
       "<tr>\n",
       "  <th>Kurtosis:</th>      <td>11.100</td>  <th>  Cond. No.          </th> <td>    575.</td>\n",
       "</tr>\n",
       "</table><br/><br/>Notes:<br/>[1] Standard Errors assume that the covariance matrix of the errors is correctly specified."
      ],
      "text/plain": [
       "<class 'statsmodels.iolib.summary.Summary'>\n",
       "\"\"\"\n",
       "                            OLS Regression Results                            \n",
       "==============================================================================\n",
       "Dep. Variable:                      y   R-squared:                       0.002\n",
       "Model:                            OLS   Adj. R-squared:                  0.001\n",
       "Method:                 Least Squares   F-statistic:                     2.602\n",
       "Date:                Tue, 12 Jan 2021   Prob (F-statistic):              0.107\n",
       "Time:                        18:07:21   Log-Likelihood:                 1688.8\n",
       "No. Observations:                1381   AIC:                            -3374.\n",
       "Df Residuals:                    1379   BIC:                            -3363.\n",
       "Df Model:                           1                                         \n",
       "Covariance Type:            nonrobust                                         \n",
       "==============================================================================\n",
       "                 coef    std err          t      P>|t|      [0.025      0.975]\n",
       "------------------------------------------------------------------------------\n",
       "const          0.2052      0.002    103.283      0.000       0.201       0.209\n",
       "x1         -5.774e-06   3.58e-06     -1.613      0.107   -1.28e-05    1.25e-06\n",
       "==============================================================================\n",
       "Omnibus:                      612.208   Durbin-Watson:                   1.170\n",
       "Prob(Omnibus):                  0.000   Jarque-Bera (JB):             4603.261\n",
       "Skew:                           1.897   Prob(JB):                         0.00\n",
       "Kurtosis:                      11.100   Cond. No.                         575.\n",
       "==============================================================================\n",
       "\n",
       "Notes:\n",
       "[1] Standard Errors assume that the covariance matrix of the errors is correctly specified.\n",
       "\"\"\""
      ]
     },
     "execution_count": 18,
     "metadata": {},
     "output_type": "execute_result"
    }
   ],
   "source": [
    "import statsmodels.api as sm\n",
    "import pandas as pd\n",
    "\n",
    "X_with_intercept = np.empty(shape=(len(astd['mtna']), 2), dtype=np.float)\n",
    "X_with_intercept[:, 0] = 1\n",
    "X_with_intercept[:, 1:2] = pd.DataFrame(astd['mtna']).values\n",
    "\n",
    "sm.OLS(np.array(astd['astd'].values).reshape(-1,1),\n",
    "       np.array(X_with_intercept)).fit().summary()"
   ]
  },
  {
   "cell_type": "markdown",
   "metadata": {},
   "source": [
    "### Plotting"
   ]
  },
  {
   "cell_type": "code",
   "execution_count": 37,
   "metadata": {},
   "outputs": [
    {
     "data": {
      "text/plain": [
       "<function matplotlib.pyplot.show(close=None, block=None)>"
      ]
     },
     "execution_count": 37,
     "metadata": {},
     "output_type": "execute_result"
    },
    {
     "data": {
      "image/png": "[encoded data removed]",
      "text/plain": [
       "<Figure size 432x288 with 1 Axes>"
      ]
     },
     "metadata": {
      "needs_background": "light"
     },
     "output_type": "display_data"
    }
   ],
   "source": [
    "# plot\n",
    "plt.scatter(astd['mtna'], astd['astd'])\n",
    "plt.plot(astd['mtna'],reg.predict(np.array(astd['mtna'].values).reshape(-1,1)), color='red')\n",
    "plt.xlabel('Average Net Total Assets')\n",
    "plt.ylabel('Annualized Risk')\n",
    "plt.title('Average Net Total Assets vs Annualized Std')\n",
    "#plt.savefig('Images/riskVsTNA_annualized.png')\n",
    "plt.show"
   ]
  }
 ],
 "metadata": {
  "kernelspec": {
   "display_name": "Python 3",
   "language": "python",
   "name": "python3"
  },
  "language_info": {
   "codemirror_mode": {
    "name": "ipython",
    "version": 3
   },
   "file_extension": ".py",
   "mimetype": "text/x-python",
   "name": "python",
   "nbconvert_exporter": "python",
   "pygments_lexer": "ipython3",
   "version": "3.9.1"
  }
 },
 "nbformat": 4,
 "nbformat_minor": 4
}
