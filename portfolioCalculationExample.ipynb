{
 "cells": [
  {
   "cell_type": "code",
   "execution_count": 1,
   "metadata": {},
   "outputs": [],
   "source": [
    "import numpy as np\n",
    "import pandas as pd\n",
    "import matplotlib.pyplot as plt\n",
    "import math"
   ]
  },
  {
   "cell_type": "markdown",
   "metadata": {},
   "source": [
    "Load Data"
   ]
  },
  {
   "cell_type": "code",
   "execution_count": 3,
   "metadata": {},
   "outputs": [],
   "source": [
    "priceData = pd.read_csv(\"Data/portfolioAdjPriceData.csv\", index_col=0)"
   ]
  },
  {
   "cell_type": "markdown",
   "metadata": {},
   "source": [
    "Calculate Returns"
   ]
  },
  {
   "cell_type": "code",
   "execution_count": 4,
   "metadata": {},
   "outputs": [],
   "source": [
    "numAssets = len(priceData.columns)\n",
    "\n",
    "returnData = pd.DataFrame()\n",
    "# Calculate Returns for Every Asset\n",
    "for asset in priceData.head():\n",
    "    returnData[str(asset + \"_returns\")] = (priceData[asset] - priceData[asset].shift(1)) / priceData[asset].shift(1)\n",
    "\n",
    "# Drop first row of Returns\n",
    "returnData = returnData.drop(returnData.index[0])"
   ]
  },
  {
   "cell_type": "markdown",
   "metadata": {},
   "source": [
    "Do preliminary calculations"
   ]
  },
  {
   "cell_type": "code",
   "execution_count": 5,
   "metadata": {},
   "outputs": [],
   "source": [
    "# Calculate Historical Returns\n",
    "historicalReturns = returnData.mean()\n",
    "\n",
    "# Convert Returns to Array\n",
    "historicalReturns = historicalReturns.to_numpy()\n",
    "\n",
    "# Calculate Risk\n",
    "risk = returnData.std().to_numpy()\n",
    "\n",
    "covMatrix = returnData.cov().to_numpy()\n",
    "\n",
    "# Define RF (monthly)\n",
    "irx = 0.98\n",
    "rf = irx*.01/12"
   ]
  },
  {
   "cell_type": "markdown",
   "metadata": {},
   "source": [
    "# GMV"
   ]
  },
  {
   "cell_type": "code",
   "execution_count": 7,
   "metadata": {},
   "outputs": [],
   "source": [
    "# GMV Calculation\n",
    "# Create b\n",
    "b = np.zeros( (numAssets+1, 1) )\n",
    "# Set Initial Constraint (w'1 = 1)\n",
    "b[numAssets, 0] = 1\n",
    "\n",
    "# Create A\n",
    "A = np.zeros( (numAssets+1, numAssets+1) )\n",
    "\n",
    "A[0:numAssets, 0:numAssets] = 2*covMatrix\n",
    "A[numAssets,0:numAssets] = np.ones( (1,numAssets) )\n",
    "A[0:numAssets,numAssets] = np.ones( (1,numAssets) )\n",
    "\n",
    "# Solve for x\n",
    "x = np.dot(np.linalg.inv(A), b)\n",
    "\n",
    "# Calculate Minimum Variance Portfolio\n",
    "w = x[0:numAssets]\n",
    "erp = np.dot(np.transpose(w), historicalReturns)\n",
    "sigmarp = math.sqrt(np.dot(np.transpose(w), np.dot(covMatrix, w)))\n",
    "minVarPort = (float(erp), float(sigmarp))"
   ]
  },
  {
   "cell_type": "markdown",
   "metadata": {},
   "source": [
    "# MVE"
   ]
  },
  {
   "cell_type": "code",
   "execution_count": 8,
   "metadata": {},
   "outputs": [],
   "source": [
    "# MVE Calculation\n",
    "# Create A\n",
    "A = np.zeros( (numAssets+2, numAssets+2) )\n",
    "\n",
    "A[0:numAssets, 0:numAssets] = 2*covMatrix\n",
    "A[numAssets,0:numAssets] = np.ones( (1,numAssets) )\n",
    "A[0:numAssets,numAssets] = np.ones( (1,numAssets) )\n",
    "A[numAssets+1,0:numAssets] = historicalReturns\n",
    "A[0:numAssets,numAssets+1] = historicalReturns\n",
    "\n",
    "EF = [[],[]]\n",
    "\n",
    "mu0Increment = .001\n",
    "mu0Itterations = 25\n",
    "\n",
    "for mu0 in np.arange(minVarPort[0], mu0Itterations*mu0Increment + minVarPort[0], mu0Increment):\n",
    "    # Create b\n",
    "    b = np.zeros( (numAssets+2, 1) )\n",
    "    # Set Initial Constraints (w'1 = 1), (E(rp)=mu0)\n",
    "    b[numAssets, 0] = 1\n",
    "    b[numAssets+1, 0] = mu0\n",
    "\n",
    "    # Solve for x\n",
    "    x = np.dot(np.linalg.inv(A), b)\n",
    "\n",
    "    # Calculate EF Portfolio\n",
    "    w = x[0:numAssets]\n",
    "    erp = np.dot(np.transpose(w), historicalReturns)\n",
    "    sigmarp = math.sqrt(np.dot(np.transpose(w), np.dot(covMatrix, w)))\n",
    "    EF[0].append(erp)\n",
    "    EF[1].append(sigmarp)"
   ]
  },
  {
   "cell_type": "markdown",
   "metadata": {},
   "source": [
    "# ORP"
   ]
  },
  {
   "cell_type": "code",
   "execution_count": 9,
   "metadata": {},
   "outputs": [],
   "source": [
    "# ORP Calculation\n",
    "# Weight Vector\n",
    "w = np.dot(np.linalg.inv(covMatrix), np.reshape(historicalReturns, (numAssets,1)) - np.dot(rf, np.ones( (numAssets, 1)))) / \\\n",
    "    np.dot(np.dot(np.transpose(np.ones( (numAssets, 1))), np.linalg.inv(covMatrix)),np.reshape(historicalReturns, (numAssets,1)) - np.dot(rf, np.ones( (numAssets, 1))))\n",
    "\n",
    "# Calculate Optimal Risky Portfolio\n",
    "erp = np.dot(np.transpose(w), historicalReturns)\n",
    "sigmarp = math.sqrt(np.dot(np.transpose(w), np.dot(covMatrix, w)))\n",
    "ORPort = (float(erp), float(sigmarp))"
   ]
  },
  {
   "cell_type": "markdown",
   "metadata": {},
   "source": [
    "# CAL"
   ]
  },
  {
   "cell_type": "code",
   "execution_count": 11,
   "metadata": {},
   "outputs": [],
   "source": [
    "# CAL Line\n",
    "optimalSharpeRatio = float((ORPort[0] - rf) / ORPort[1])\n",
    "calRisks = np.arange(0, EF[1][-1], mu0Increment)\n",
    "calErps = list(map(lambda x: x * optimalSharpeRatio + rf, np.arange(0, EF[1][-1], mu0Increment)))"
   ]
  },
  {
   "cell_type": "markdown",
   "metadata": {},
   "source": [
    "# Random Portfolio"
   ]
  },
  {
   "cell_type": "code",
   "execution_count": 12,
   "metadata": {},
   "outputs": [],
   "source": [
    "# Random Portfolio\n",
    "randPort_w = np.array([[0.9],\n",
    "                         [0.05],\n",
    "                         [0],\n",
    "                         [0],\n",
    "                         [0],\n",
    "                         [0],\n",
    "                         [0.05]]\n",
    "                        )\n",
    "erp = np.dot(np.transpose(randPort_w), historicalReturns)\n",
    "sigmarp = math.sqrt(np.dot(np.transpose(randPort_w), np.dot(covMatrix, randPort_w)))\n",
    "randPort = (float(erp), float(sigmarp))"
   ]
  },
  {
   "cell_type": "markdown",
   "metadata": {},
   "source": [
    "# Efficient Random Portfolio (same return as random)"
   ]
  },
  {
   "cell_type": "code",
   "execution_count": 13,
   "metadata": {},
   "outputs": [],
   "source": [
    "# Calculate Efficient Random Portfolio (same return as random)\n",
    "# Create b\n",
    "b = np.zeros((numAssets + 2, 1))\n",
    "# Set Initial Constraints (w'1 = 1), (E(rp)=mu0)\n",
    "b[numAssets, 0] = 1\n",
    "b[numAssets + 1, 0] = randPort[0]\n",
    "\n",
    "# Solve for x\n",
    "x = np.dot(np.linalg.inv(A), b)\n",
    "\n",
    "# Calculate EF Portfolio\n",
    "w = x[0:numAssets]\n",
    "erp = np.dot(np.transpose(w), historicalReturns)\n",
    "sigmarp = math.sqrt(np.dot(np.transpose(w), np.dot(covMatrix, w)))\n",
    "randPortEff = (float(erp), float(sigmarp))"
   ]
  },
  {
   "cell_type": "markdown",
   "metadata": {},
   "source": [
    "# Complete Portfolio"
   ]
  },
  {
   "cell_type": "code",
   "execution_count": 14,
   "metadata": {},
   "outputs": [],
   "source": [
    "# Calculate Complete Random Portfolio (same return as original random portfolio)\n",
    "erp = randPort[0]\n",
    "sigmarp = (randPort[0] - rf)/optimalSharpeRatio\n",
    "randPortComplete_ESame = (float(erp), float(sigmarp))\n",
    "\n",
    "# Calculate Complete Random Portfolio (same risk as original random portfolio)\n",
    "erp = optimalSharpeRatio*randPort[1] + rf\n",
    "sigmarp = randPort[1]\n",
    "randPortComplete_RiskSame = (float(erp), float(sigmarp))"
   ]
  },
  {
   "cell_type": "markdown",
   "metadata": {},
   "source": [
    "# Results"
   ]
  },
  {
   "cell_type": "markdown",
   "metadata": {},
   "source": [
    "## Plotting"
   ]
  },
  {
   "cell_type": "code",
   "execution_count": 15,
   "metadata": {},
   "outputs": [
    {
     "data": {
      "image/png": "[encoded data removed]",
      "text/plain": [
       "<Figure size 432x288 with 1 Axes>"
      ]
     },
     "metadata": {
      "needs_background": "light"
     },
     "output_type": "display_data"
    }
   ],
   "source": [
    "# Plotting\n",
    "fig = plt.figure()\n",
    "ax1 = fig.add_subplot(111)\n",
    "\n",
    "ax1.scatter(EF[1], EF[0], s=10, c='b', marker=\"s\", label='EF')\n",
    "ax1.scatter(ORPort[1], ORPort[0], s=10, c='r', marker=\"o\", label='Optimal Risky Portfolio')\n",
    "ax1.scatter(randPort[1], randPort[0], s=10, c='g', marker=\"o\", label='Random Portfolio')\n",
    "ax1.scatter(randPortEff[1], randPortEff[0], s=10, c='y', marker=\"o\", label='Random Efficient Portfolio')\n",
    "ax1.scatter(randPortComplete_ESame[1], randPortComplete_ESame[0], s=10, c='k', marker=\"o\", label='Complete Random Portfolio (Same Return)')\n",
    "ax1.scatter(randPortComplete_RiskSame[1], randPortComplete_RiskSame[0], s=10, c='m', marker=\"o\", label='Complete Random Portfolio (Same Risk)')\n",
    "plt.plot(calRisks, calErps, label='CAL')\n",
    "plt.legend(loc='upper left', prop={'size': 6});\n",
    "plt.title('Market Portfolio')\n",
    "plt.xlabel('sigma')\n",
    "plt.ylabel('E(rp)')\n",
    "plt.show()"
   ]
  },
  {
   "cell_type": "markdown",
   "metadata": {},
   "source": [
    "## Summary Results"
   ]
  },
  {
   "cell_type": "code",
   "execution_count": null,
   "metadata": {},
   "outputs": [],
   "source": []
  }
 ],
 "metadata": {
  "kernelspec": {
   "display_name": "Python 3",
   "language": "python",
   "name": "python3"
  },
  "language_info": {
   "codemirror_mode": {
    "name": "ipython",
    "version": 3
   },
   "file_extension": ".py",
   "mimetype": "text/x-python",
   "name": "python",
   "nbconvert_exporter": "python",
   "pygments_lexer": "ipython3",
   "version": "3.8.3"
  }
 },
 "nbformat": 4,
 "nbformat_minor": 4
}
